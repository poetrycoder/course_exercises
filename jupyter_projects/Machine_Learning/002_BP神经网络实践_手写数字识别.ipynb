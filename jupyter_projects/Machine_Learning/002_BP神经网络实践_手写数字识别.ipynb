{
 "cells": [
  {
   "cell_type": "code",
   "execution_count": 43,
   "id": "2bd7ac7f",
   "metadata": {
    "scrolled": true
   },
   "outputs": [
    {
     "data": {
      "text/plain": [
       "{'__header__': b'MATLAB 5.0 MAT-file, Platform: GLNXA64, Created on: Sun Oct 16 13:09:09 2011',\n",
       " '__version__': '1.0',\n",
       " '__globals__': [],\n",
       " 'X': array([[0., 0., 0., ..., 0., 0., 0.],\n",
       "        [0., 0., 0., ..., 0., 0., 0.],\n",
       "        [0., 0., 0., ..., 0., 0., 0.],\n",
       "        ...,\n",
       "        [0., 0., 0., ..., 0., 0., 0.],\n",
       "        [0., 0., 0., ..., 0., 0., 0.],\n",
       "        [0., 0., 0., ..., 0., 0., 0.]]),\n",
       " 'y': array([[10],\n",
       "        [10],\n",
       "        [10],\n",
       "        ...,\n",
       "        [ 9],\n",
       "        [ 9],\n",
       "        [ 9]], dtype=uint8)}"
      ]
     },
     "execution_count": 43,
     "metadata": {},
     "output_type": "execute_result"
    }
   ],
   "source": [
    "import numpy as np       #  导入numpy库\n",
    "from scipy.io import loadmat    # 导入读取mat文件的模块\n",
    "from sklearn import model_selection     #  模型比较和选择包\n",
    "from sklearn.metrics import confusion_matrix     # 计算混淆矩阵，主要用来评估分类的准确性\n",
    "from sklearn.metrics import accuracy_score     #  计算精度得分\n",
    "data = loadmat('D:/AAA_poetrycoder/course_exercises/jupyter_projects/Machine_Learning/10_digital_手写数字识别')\n",
    "data"
   ]
  },
  {
   "cell_type": "code",
   "execution_count": 44,
   "id": "2652d7d6",
   "metadata": {},
   "outputs": [
    {
     "data": {
      "text/plain": [
       "array([ 0.00000000e+00,  0.00000000e+00,  0.00000000e+00,  0.00000000e+00,\n",
       "        0.00000000e+00,  1.28335523e-17, -3.26286765e-04, -1.38651604e-02,\n",
       "        8.15651552e-02,  3.82800381e-01,  8.57849775e-01,  1.00109761e+00,\n",
       "        9.69710638e-01,  9.30928598e-01,  1.00383757e+00,  9.64157356e-01,\n",
       "        4.49256553e-01, -5.60408259e-03, -3.78319036e-03,  0.00000000e+00])"
      ]
     },
     "execution_count": 44,
     "metadata": {},
     "output_type": "execute_result"
    }
   ],
   "source": [
    "# 把X,y转化为数组形式，以便于计算\n",
    "X=data['X']     # 提取X变量\n",
    "y=data['y']     # 提取y变量\n",
    "X.shape,y.shape    # X,y的形状\n",
    "X[0, 100: 120]    #  矩阵x第一行第101列至第119列的数据"
   ]
  },
  {
   "cell_type": "code",
   "execution_count": 45,
   "id": "367ee528",
   "metadata": {},
   "outputs": [],
   "source": [
    "from sklearn.neural_network import MLPClassifier    # 导入MLP分类器程序库\n",
    "from sklearn.preprocessing import StandardScaler   # 导入标准化库\n",
    "scaler = StandardScaler()     # 标准化转换\n",
    "scaler.fit(X)      #  训练标准化对象\n",
    "X=scaler.transform(X)    # 转换数据集"
   ]
  },
  {
   "cell_type": "code",
   "execution_count": 46,
   "id": "3fadb5a3",
   "metadata": {},
   "outputs": [
    {
     "data": {
      "text/plain": [
       "((3750, 400), (1250, 400), (3750, 1), (1250, 1))"
      ]
     },
     "execution_count": 46,
     "metadata": {},
     "output_type": "execute_result"
    }
   ],
   "source": [
    "# 将数据计划分为训练集与测试集\n",
    "from sklearn.model_selection import train_test_split\n",
    "X_train,X_test,y_train,y_test=train_test_split(X,y,test_size=0.25, random_state=2)  # 以25%的数据构建测试样本，剩余作为训练样本\n",
    "X_train.shape,X_test.shape,y_train.shape,y_test.shape"
   ]
  },
  {
   "cell_type": "code",
   "execution_count": 48,
   "id": "3cb9b631",
   "metadata": {},
   "outputs": [
    {
     "data": {
      "text/plain": [
       "MLPClassifier(activation='tanh', alpha=1e-05, hidden_layer_sizes=(50,),\n",
       "              max_iter=2000)"
      ]
     },
     "execution_count": 48,
     "metadata": {},
     "output_type": "execute_result"
    }
   ],
   "source": [
    "import warnings\n",
    "warnings.filterwarnings(\"ignore\")     # 忽略所有警告\n",
    "\n",
    "\n",
    "# 设置MLP算法\n",
    "mlp=MLPClassifier(solver='adam',activation='tanh', alpha=1e-5,\n",
    "                hidden_layer_sizes=(50,),learning_rate_init=0.001,max_iter=2000)\n",
    "mlp.fit(X_train,y_train)   # 对训练集进行学习"
   ]
  },
  {
   "cell_type": "code",
   "execution_count": 50,
   "id": "04a162d0",
   "metadata": {},
   "outputs": [
    {
     "name": "stdout",
     "output_type": "stream",
     "text": [
      "每层网络层系数矩阵维度：\n",
      " [(400, 50), (50, 10)]\n",
      "预测结果：\n",
      " [7 8 3 ... 3 7 9]\n",
      "[array([ 0.16087749, -0.03621129,  0.30977218, -0.02476354, -0.07595295,\n",
      "        0.0381141 , -0.30065277,  0.20301787, -0.10279665,  0.18734485,\n",
      "        0.27454214, -0.13716673,  0.01095789, -0.10220615,  0.1070651 ,\n",
      "        0.29442572,  0.21863082,  0.01506096,  0.11138326, -0.16815487,\n",
      "       -0.08128602,  0.05648599,  0.02807215,  0.02614504,  0.08629963,\n",
      "       -0.03007966, -0.0337664 ,  0.30122887,  0.31034792,  0.05475638,\n",
      "        0.00080907, -0.008832  ,  0.22018719,  0.12297209, -0.18918066,\n",
      "       -0.201217  ,  0.17700089, -0.01168798,  0.02370905, -0.09213123,\n",
      "       -0.11383789, -0.27191908, -0.00598629, -0.11948554, -0.05596362,\n",
      "       -0.1876587 , -0.1719149 , -0.08492835, -0.12559273, -0.18978493]), array([ 0.04726896,  0.23119137, -0.19448142,  0.03730497,  0.40234913,\n",
      "       -0.12562929,  0.23463702,  0.04465539,  0.33517326,  0.00918835])]\n"
     ]
    }
   ],
   "source": [
    "# 展示训练结果，并对测试集进行预测\n",
    "print(\"每层网络层系数矩阵维度：\\n\", [coef.shape for coef in mlp.coefs_])\n",
    "y_pred=mlp.predict(X_test)    # 预测测试集输出\n",
    "print(\"预测结果：\\n\", y_pred)\n",
    "print(mlp.intercepts_)    # 列表中第i个元素代表i+1层的偏差向量"
   ]
  },
  {
   "cell_type": "code",
   "execution_count": 51,
   "id": "bf094bb7",
   "metadata": {},
   "outputs": [
    {
     "data": {
      "text/plain": [
       "array([[119,   1,   1,   1,   0,   0,   1,   1,   2,   0],\n",
       "       [  1, 105,   1,   2,   0,   6,   1,   1,   2,   0],\n",
       "       [  1,   2, 111,   0,   3,   1,   3,   3,   1,   0],\n",
       "       [  2,   2,   0, 127,   0,   0,   0,   1,   3,   0],\n",
       "       [  0,   1,   4,   0, 101,   5,   0,   2,   0,   1],\n",
       "       [  0,   2,   0,   0,   2, 114,   0,   0,   0,   0],\n",
       "       [  2,   1,   0,   3,   0,   0, 111,   1,   4,   1],\n",
       "       [  2,   1,   1,   0,   5,   1,   2, 125,   2,   2],\n",
       "       [  1,   0,   1,   4,   1,   1,   2,   1, 105,   1],\n",
       "       [  0,   0,   0,   2,   2,   0,   0,   0,   1, 127]], dtype=int64)"
      ]
     },
     "execution_count": 51,
     "metadata": {},
     "output_type": "execute_result"
    }
   ],
   "source": [
    "accuracy_score(y_test,y_pred)     # 计算准确率\n",
    "confusion_matrix(y_true=y_test,y_pred=y_pred)     # 计算混淆矩阵"
   ]
  },
  {
   "cell_type": "code",
   "execution_count": null,
   "id": "95cdf508",
   "metadata": {},
   "outputs": [],
   "source": []
  }
 ],
 "metadata": {
  "kernelspec": {
   "display_name": "Python 3 (ipykernel)",
   "language": "python",
   "name": "python3"
  },
  "language_info": {
   "codemirror_mode": {
    "name": "ipython",
    "version": 3
   },
   "file_extension": ".py",
   "mimetype": "text/x-python",
   "name": "python",
   "nbconvert_exporter": "python",
   "pygments_lexer": "ipython3",
   "version": "3.9.13"
  }
 },
 "nbformat": 4,
 "nbformat_minor": 5
}
