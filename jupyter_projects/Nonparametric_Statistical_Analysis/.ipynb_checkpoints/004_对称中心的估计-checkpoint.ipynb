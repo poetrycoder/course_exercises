{
 "cells": [
  {
   "cell_type": "code",
   "execution_count": 1,
   "id": "9748b529",
   "metadata": {},
   "outputs": [
    {
     "name": "stdout",
     "output_type": "stream",
     "text": [
      "平均值法： 2.525\n",
      "中位数法： 2.350\n"
     ]
    }
   ],
   "source": [
    "import numpy as np\n",
    "x = [2.1, 2.4, 1.8, 1.7, 2.3, 2.5, 2.6, 4.8]\n",
    "print('平均值法：', np.mean(x))\n",
    "print('中位数法：','{:.3f}'.format(np.median(x)))"
   ]
  },
  {
   "cell_type": "code",
   "execution_count": 2,
   "id": "208d10cd",
   "metadata": {},
   "outputs": [
    {
     "name": "stdout",
     "output_type": "stream",
     "text": [
      "切尾均值： 0.24166666666666667\n"
     ]
    }
   ],
   "source": [
    "import numpy as np\n",
    "x = [0.19, 0.18, 0.21, 0.30, 0.66, 0.42, 0.08, 0.12, 0.30, 0.27]\n",
    "y = np.sort(x)\n",
    "z = np.mean(y[2:-2])\n",
    "print('切尾均值：', z)"
   ]
  },
  {
   "cell_type": "code",
   "execution_count": null,
   "id": "c26d8399",
   "metadata": {},
   "outputs": [],
   "source": []
  }
 ],
 "metadata": {
  "kernelspec": {
   "display_name": "Python 3 (ipykernel)",
   "language": "python",
   "name": "python3"
  },
  "language_info": {
   "codemirror_mode": {
    "name": "ipython",
    "version": 3
   },
   "file_extension": ".py",
   "mimetype": "text/x-python",
   "name": "python",
   "nbconvert_exporter": "python",
   "pygments_lexer": "ipython3",
   "version": "3.9.13"
  }
 },
 "nbformat": 4,
 "nbformat_minor": 5
}
