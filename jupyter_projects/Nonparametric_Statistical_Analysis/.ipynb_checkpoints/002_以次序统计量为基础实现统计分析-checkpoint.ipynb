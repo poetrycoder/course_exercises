{
 "cells": [
  {
   "cell_type": "code",
   "execution_count": 3,
   "id": "b9119585",
   "metadata": {},
   "outputs": [
    {
     "name": "stdout",
     "output_type": "stream",
     "text": [
      "原数据:\n",
      " [988, 1005, 1002, 1012, 981, 999, 1004, 975, 979, 1001]\n",
      "原数据的次序统计量为:\n",
      " [ 975  979  981  988  999 1001 1002 1004 1005 1012]\n",
      "极小观测值:\n",
      " 975\n",
      "极大观测值:\n",
      " 1012\n",
      "极小值位置:\n",
      " 8 \n",
      "极大值位置:\n",
      " 4\n"
     ]
    }
   ],
   "source": [
    "import numpy as np\n",
    "\n",
    "data = [988, 1005, 1002, 1012, 981, 999, 1004, 975, 979, 1001]\n",
    "print(\"原数据:\\n\", data)\n",
    "print(\"原数据的次序统计量为:\\n\", np.sort(data))\n",
    "print(\"极小观测值:\\n\", np.min(data))\n",
    "print(\"极大观测值:\\n\", np.max(data))\n",
    "print(\"极小值位置:\\n\", np.argmin(data)+1,\n",
    "     \"\\n极大值位置:\\n\", np.argmax(data)+1)"
   ]
  },
  {
   "cell_type": "code",
   "execution_count": null,
   "id": "7361f65c",
   "metadata": {},
   "outputs": [],
   "source": []
  }
 ],
 "metadata": {
  "kernelspec": {
   "display_name": "Python 3 (ipykernel)",
   "language": "python",
   "name": "python3"
  },
  "language_info": {
   "codemirror_mode": {
    "name": "ipython",
    "version": 3
   },
   "file_extension": ".py",
   "mimetype": "text/x-python",
   "name": "python",
   "nbconvert_exporter": "python",
   "pygments_lexer": "ipython3",
   "version": "3.9.13"
  }
 },
 "nbformat": 4,
 "nbformat_minor": 5
}
