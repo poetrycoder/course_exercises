{
 "cells": [
  {
   "cell_type": "code",
   "execution_count": 3,
   "id": "08c2774b",
   "metadata": {},
   "outputs": [
    {
     "name": "stdout",
     "output_type": "stream",
     "text": [
      "原数据:\n",
      " [988, 1005, 1002, 1012, 981, 999, 1004, 975, 979, 1001]\n",
      "原数据的次序统计量为:\n",
      " [ 975  979  981  988  999 1001 1002 1004 1005 1012]\n",
      "极小观测值:\n",
      " 975\n",
      "极大观测值:\n",
      " 1012\n",
      "极小值位置:\n",
      " 8 \n",
      "极大值位置:\n",
      " 4\n"
     ]
    }
   ],
   "source": [
    "import numpy as np\n",
    "\n",
    "data = [988, 1005, 1002, 1012, 981, 999, 1004, 975, 979, 1001]\n",
    "print(\"原数据:\\n\", data)\n",
    "print(\"原数据的次序统计量为:\\n\", np.sort(data))\n",
    "print(\"极小观测值:\\n\", np.min(data))\n",
    "print(\"极大观测值:\\n\", np.max(data))\n",
    "print(\"极小值位置:\\n\", np.argmin(data)+1,\n",
    "     \"\\n极大值位置:\\n\", np.argmax(data)+1)"
   ]
  },
  {
   "cell_type": "code",
   "execution_count": 1,
   "id": "65bc24bb",
   "metadata": {},
   "outputs": [
    {
     "name": "stdout",
     "output_type": "stream",
     "text": [
      "数据:\n",
      " [15.3, 13.0, 16.7, 14.2, 14.5, 14.5, 15.9, 15.0, 15.1, 16.4, 16.0, 13.9, 15.1, 15.3, 14.5, 13.3, 13.6, 15.9, 14.5, 15.1, 15.2]\n",
      "数据的五分位数:\n",
      " [13.  14.5 15.1 15.3 16.7]\n",
      "数据的极差:\n",
      " 3.6999999999999993\n"
     ]
    }
   ],
   "source": [
    "import numpy as np\n",
    "import math\n",
    "x = [15.3, 13.0, 16.7, 14.2, 14.5, 14.5, 15.9, 15.0, 15.1, 16.4,\n",
    "    16.0, 13.9, 15.1, 15.3, 14.5, 13.3, 13.6, 15.9, 14.5, 15.1]\n",
    "x.append(15.2)\n",
    "print('数据:\\n', x)\n",
    "print('数据的五分位数:\\n', np.percentile(x, [0, 25, 50, 75, 100]))   # percentile函数的对象必须是列表！列表里的数是百分制的！\n",
    "print('数据的极差:\\n', max(x)-min(x))"
   ]
  },
  {
   "cell_type": "code",
   "execution_count": 3,
   "id": "d7c5067a",
   "metadata": {},
   "outputs": [
    {
     "name": "stdout",
     "output_type": "stream",
     "text": [
      "       数据框数据\n",
      "0.00  13.000\n",
      "0.25  14.425\n",
      "0.50  15.050\n",
      "0.75  15.450\n",
      "1.00  16.700\n"
     ]
    }
   ],
   "source": [
    "import numpy as np\n",
    "import pandas as pd\n",
    "df = pd.DataFrame(np.array([15.3, 13.0, 16.7, 14.2, 14.5, 14.5, 15.9, 15.0, 15.1, 16.4,\n",
    "    16.0, 13.9, 15.1, 15.3, 14.5, 13.3, 13.6, 15.9, 14.5, 15.1]),columns = ['数据框数据'])\n",
    "print(df.quantile([0, 0.25, 0.5, 0.75, 1]))    #  quantile函数的对象里的数必须是小数"
   ]
  },
  {
   "cell_type": "code",
   "execution_count": 17,
   "id": "0ecbe2bf",
   "metadata": {},
   "outputs": [
    {
     "data": {
      "text/html": [
       "<div>\n",
       "<style scoped>\n",
       "    .dataframe tbody tr th:only-of-type {\n",
       "        vertical-align: middle;\n",
       "    }\n",
       "\n",
       "    .dataframe tbody tr th {\n",
       "        vertical-align: top;\n",
       "    }\n",
       "\n",
       "    .dataframe thead th {\n",
       "        text-align: right;\n",
       "    }\n",
       "</style>\n",
       "<table border=\"1\" class=\"dataframe\">\n",
       "  <thead>\n",
       "    <tr style=\"text-align: right;\">\n",
       "      <th></th>\n",
       "      <th>统计量</th>\n",
       "      <th>符号</th>\n",
       "      <th>数值</th>\n",
       "    </tr>\n",
       "  </thead>\n",
       "  <tbody>\n",
       "    <tr>\n",
       "      <th>0</th>\n",
       "      <td>计数</td>\n",
       "      <td>Count</td>\n",
       "      <td>20.000</td>\n",
       "    </tr>\n",
       "    <tr>\n",
       "      <th>1</th>\n",
       "      <td>最小值</td>\n",
       "      <td>Min</td>\n",
       "      <td>13.000</td>\n",
       "    </tr>\n",
       "    <tr>\n",
       "      <th>2</th>\n",
       "      <td>下四分位数</td>\n",
       "      <td>Q1(25%)</td>\n",
       "      <td>14.425</td>\n",
       "    </tr>\n",
       "    <tr>\n",
       "      <th>3</th>\n",
       "      <td>中位数</td>\n",
       "      <td>Median</td>\n",
       "      <td>15.050</td>\n",
       "    </tr>\n",
       "    <tr>\n",
       "      <th>4</th>\n",
       "      <td>上四分位数</td>\n",
       "      <td>Q3(75%)</td>\n",
       "      <td>15.450</td>\n",
       "    </tr>\n",
       "    <tr>\n",
       "      <th>5</th>\n",
       "      <td>最大值</td>\n",
       "      <td>Max</td>\n",
       "      <td>16.700</td>\n",
       "    </tr>\n",
       "  </tbody>\n",
       "</table>\n",
       "</div>"
      ],
      "text/plain": [
       "     统计量       符号      数值\n",
       "0     计数    Count  20.000\n",
       "1    最小值      Min  13.000\n",
       "2  下四分位数  Q1(25%)  14.425\n",
       "3    中位数   Median  15.050\n",
       "4  上四分位数  Q3(75%)  15.450\n",
       "5    最大值      Max  16.700"
      ]
     },
     "execution_count": 17,
     "metadata": {},
     "output_type": "execute_result"
    }
   ],
   "source": [
    "# 自己的改进程序\n",
    "# 自编函数集成功能\n",
    "\n",
    "import numpy as np\n",
    "import pandas as pd\n",
    "\n",
    "Shuju = [15.3, 13.0, 16.7, 14.2, 14.5, 14.5, 15.9, 15.0, 15.1, 16.4,\n",
    "         16.0, 13.9, 15.1, 15.3, 14.5, 13.3, 13.6, 15.9, 14.5, 15.1]\n",
    "\n",
    "shuju = pd.Series(Shuju)  # 列表转换为序列\n",
    "\n",
    "def fenweishu(x):\n",
    "    shuzhi = [x.count(), x.min(), x.quantile(.25), x.median(), x.quantile(.75), x.max()]\n",
    "    tongjiliang = ['计数', '最小值', '下四分位数', '中位数', '上四分位数','最大值']\n",
    "    fuhao = ['Count', 'Min', 'Q1(25%)', 'Median', 'Q3(75%)', 'Max']\n",
    "    shujukuang = pd.DataFrame({'统计量':tongjiliang, '符号':fuhao, '数值':shuzhi})\n",
    "    return(shujukuang)\n",
    "fenweishu(shuju)"
   ]
  },
  {
   "cell_type": "code",
   "execution_count": 18,
   "id": "20fafa3f",
   "metadata": {},
   "outputs": [
    {
     "name": "stdout",
     "output_type": "stream",
     "text": [
      "原数据:\n",
      " [2.5  2.39 2.4  2.51 2.48 2.52 2.54 2.53]\n",
      "秩统计量:\n",
      " [4. 1. 2. 5. 3. 6. 8. 7.]\n",
      "升序数据的原下标:\n",
      " [2 3 5 1 4 6 8 7]\n"
     ]
    }
   ],
   "source": [
    "import scipy.stats as ss  #  用于统计分析和概率分布计算的重要库\n",
    "# 能进行概率分布计算、统计假设检验、描述性统计与数据探索、线性回归与相关性分析、统计模型与分布拟合等等统计分析和概率计算\n",
    "\n",
    "import numpy as np\n",
    "x = np.array([2.5, 2.39, 2.40, 2.51, 2.48, 2.52, 2.54, 2.53])\n",
    "print('原数据:\\n', x)\n",
    "print('秩统计量:\\n', ss.rankdata(x))    #  求秩\n",
    "print('升序数据的原下标:\\n', x.argsort()+1)   #  以原数据的顺序返回秩，方便多个列表混合求秩再切片"
   ]
  },
  {
   "cell_type": "code",
   "execution_count": 20,
   "id": "1bf92de9",
   "metadata": {},
   "outputs": [
    {
     "name": "stdout",
     "output_type": "stream",
     "text": [
      "原数据:\n",
      " [1.51 1.8  1.35 1.16 1.72 1.68 1.62 1.45 1.43 1.79]\n",
      "秩统计量:\n",
      " [ 5. 10.  2.  1.  8.  7.  6.  4.  3.  9.]\n",
      "升序数据的原下标:\n",
      " [ 4  3  9  8  1  7  6  5 10  2]\n"
     ]
    }
   ],
   "source": [
    "import scipy.stats as ss \n",
    "import numpy as np\n",
    "x = np.array([1.51, 1.80, 1.35, 1.16, 1.72, 1.68, 1.62, 1.45, 1.43, 1.79])\n",
    "print('原数据:\\n', x)\n",
    "print('秩统计量:\\n', ss.rankdata(x))   \n",
    "print('升序数据的原下标:\\n', x.argsort()+1)  "
   ]
  },
  {
   "cell_type": "code",
   "execution_count": 21,
   "id": "b8a70fcd",
   "metadata": {},
   "outputs": [
    {
     "name": "stdout",
     "output_type": "stream",
     "text": [
      "原数据的秩:\n",
      " [6.5, 2.0, 9.0, 2.0, 5.0, 6.5, 4.0, 8.0, 2.0]\n",
      "数据2.20的秩: 2.0\n",
      "数据2.20的结长: 3\n"
     ]
    }
   ],
   "source": [
    "import scipy.stats as ss\n",
    "x = [2.45, 2.20, 2.80, 2.20, 2.34, 2.45, 2.25, 2.65, 2.20]   # 有重复的数据\n",
    "y = list(ss.rankdata(x))\n",
    "print(\"原数据的秩:\\n\", y)\n",
    "z = x.index(2.20)         # 数据2.20的位置索引\n",
    "print(\"数据2.20的秩:\", y[z])\n",
    "print(\"数据2.20的结长:\",y.count(y[z]) )   # 某数据的结长：与该数据数值相等的数据的个数"
   ]
  },
  {
   "cell_type": "code",
   "execution_count": 2,
   "id": "2df596f1",
   "metadata": {},
   "outputs": [
    {
     "name": "stdout",
     "output_type": "stream",
     "text": [
      "原数据：\n",
      " [-0.2, 0.28, -0.1, -0.15, 0.01, 0.12, 0.13, 0.11, -0.05, 0.16]\n",
      "符号统计量：\n",
      " [ 0. 10.  0.  0.  1.  5.  6.  4.  0.  8.]\n"
     ]
    }
   ],
   "source": [
    "import scipy.stats as ss\n",
    "x = [-0.2, 0.28, -0.1, -0.15, 0.01, 0.12, 0.13, 0.11, -0.05, 0.16]\n",
    "print('原数据：\\n', x)\n",
    "y = [abs(i) for i in x]      ## 列表解析式生成绝对值数据\n",
    "z = ss.rankdata(y)           ## 绝对值数据的秩\n",
    "for i in range(len(x)):      ## 在序列x中循环\n",
    "    if x[i] <= 0:            ## 原数据<=0\n",
    "        z[i] = 0             ## 对应的绝对值秩改为0\n",
    "    else:                    ## 原数据>0\n",
    "        pass                 ## 跳过\n",
    "print(\"符号统计量：\\n\", z)"
   ]
  },
  {
   "cell_type": "code",
   "execution_count": 20,
   "id": "2e392c79",
   "metadata": {},
   "outputs": [
    {
     "name": "stdout",
     "output_type": "stream",
     "text": [
      "数据绝对值：\n",
      " [0.04, 0.04, 0.32, 0.36, 0.08, 0.82, 0.23, 0.18, 0.43, 0.48, 0.58, 0.28, 0.47, 0.22, 0.56, 0.44, 0.11, 0.28, 0.33, 0.09]\n",
      "符号秩：\n",
      " [ 1.5  1.5 11.   0.   3.  20.   0.   6.  14.  17.  19.   9.5 16.   7.\n",
      " 18.  15.   0.   0.  12.   4. ]\n",
      "绝对秩和： 174.5\n"
     ]
    }
   ],
   "source": [
    "from scipy.stats import rankdata\n",
    "\n",
    "x = [0.04, 0.04, 0.32, -0.36, 0.08, 0.82, -0.23, 0.18, 0.43, 0.48,\n",
    "     0.58, 0.28, 0.47, 0.22, 0.56, 0.44, -0.11, -0.28, 0.33, 0.09]\n",
    "\n",
    "y = [abs(i) for i in x]      ## 绝对值\n",
    "print('数据绝对值：\\n', y)\n",
    "\n",
    "y_rank = rankdata(y)      ## 求秩\n",
    "for i in range(len(x)):\n",
    "    if x[i] <= 0:\n",
    "        y_rank[i] = 0\n",
    "    else:\n",
    "        pass\n",
    "jrs = sum(y_rank)\n",
    "\n",
    "print('符号秩：\\n', y_rank)\n",
    "print('绝对秩和：', jrs)"
   ]
  },
  {
   "cell_type": "code",
   "execution_count": 21,
   "id": "24b986aa",
   "metadata": {},
   "outputs": [
    {
     "name": "stdout",
     "output_type": "stream",
     "text": [
      "结长列表： [2]\n",
      "修正因子： 6\n"
     ]
    }
   ],
   "source": [
    "## 判断是否有结\n",
    "from numpy import *\n",
    "from collections import Counter  \n",
    "## collections库提供了更灵活高效的数据结构，包含多种实用容器类\n",
    "## Counter函数相当于计数器，统计可哈希对象的出现次数，返回字典形式结果\n",
    "\n",
    "x = [0.04, 0.04, 0.32, -0.36, 0.08, 0.82, -0.23, 0.18, 0.43, 0.48,\n",
    "     0.58, 0.28, 0.47, 0.22, 0.56, 0.44, -0.11, -0.28, 0.33, 0.09]\n",
    "\n",
    "counter = Counter(x)\n",
    "\n",
    "tau = [count[1] for count in counter.items() if count[1] > 1]\n",
    "print('结长列表：', tau)\n",
    "\n",
    "fac = sum([(i**3 - i) for i in tau])\n",
    "print('修正因子：',round(fac, 4))\n"
   ]
  },
  {
   "cell_type": "code",
   "execution_count": 22,
   "id": "92e5016b",
   "metadata": {},
   "outputs": [
    {
     "data": {
      "text/plain": [
       "Counter({0.04: 2,\n",
       "         0.32: 1,\n",
       "         -0.36: 1,\n",
       "         0.08: 1,\n",
       "         0.82: 1,\n",
       "         -0.23: 1,\n",
       "         0.18: 1,\n",
       "         0.43: 1,\n",
       "         0.48: 1,\n",
       "         0.58: 1,\n",
       "         0.28: 1,\n",
       "         0.47: 1,\n",
       "         0.22: 1,\n",
       "         0.56: 1,\n",
       "         0.44: 1,\n",
       "         -0.11: 1,\n",
       "         -0.28: 1,\n",
       "         0.33: 1,\n",
       "         0.09: 1})"
      ]
     },
     "execution_count": 22,
     "metadata": {},
     "output_type": "execute_result"
    }
   ],
   "source": [
    "counter"
   ]
  },
  {
   "cell_type": "code",
   "execution_count": 24,
   "id": "ebe85ae9",
   "metadata": {},
   "outputs": [
    {
     "name": "stdout",
     "output_type": "stream",
     "text": [
      "拒绝原假设,认为F(x)的对称中心不等于0。\n"
     ]
    }
   ],
   "source": [
    "from scipy.stats import norm\n",
    "\n",
    "def r(n, alpha = 0.05):\n",
    "    a = abs(jrs - n * (n + 1) / 4)\n",
    "    b = sqrt(n*(n+1)*(2*n+1)/24 - fac/48)\n",
    "    u = norm.ppf(1-alpha/2, loc = 0, scale = 1)\n",
    "    if a > b * u:\n",
    "        print('拒绝原假设,认为F(x)的对称中心不等于0。')\n",
    "    else:\n",
    "        print('接受原假设,认为F(x)的对称中心等于0。')\n",
    "r(len(x))"
   ]
  },
  {
   "cell_type": "code",
   "execution_count": null,
   "id": "9678713d",
   "metadata": {},
   "outputs": [],
   "source": []
  }
 ],
 "metadata": {
  "kernelspec": {
   "display_name": "Python 3 (ipykernel)",
   "language": "python",
   "name": "python3"
  },
  "language_info": {
   "codemirror_mode": {
    "name": "ipython",
    "version": 3
   },
   "file_extension": ".py",
   "mimetype": "text/x-python",
   "name": "python",
   "nbconvert_exporter": "python",
   "pygments_lexer": "ipython3",
   "version": "3.9.13"
  }
 },
 "nbformat": 4,
 "nbformat_minor": 5
}
