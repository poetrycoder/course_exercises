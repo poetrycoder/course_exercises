{
 "cells": [
  {
   "cell_type": "markdown",
   "metadata": {
    "toc": true
   },
   "source": [
    "<h1>Table of Contents<span class=\"tocSkip\"></span></h1>\n",
    "<div class=\"toc\"><ul class=\"toc-item\"><li><span><a href=\"#作业1\" data-toc-modified-id=\"作业1-1\"><span class=\"toc-item-num\">1&nbsp;&nbsp;</span>作业1</a></span><ul class=\"toc-item\"><li><span><a href=\"#\" data-toc-modified-id=\"-1.1\"><span class=\"toc-item-num\">1.1&nbsp;&nbsp;</span></a></span></li><li><span><a href=\"#\" data-toc-modified-id=\"-1.2\"><span class=\"toc-item-num\">1.2&nbsp;&nbsp;</span></a></span></li><li><span><a href=\"#\" data-toc-modified-id=\"-1.3\"><span class=\"toc-item-num\">1.3&nbsp;&nbsp;</span></a></span></li><li><span><a href=\"#\" data-toc-modified-id=\"-1.4\"><span class=\"toc-item-num\">1.4&nbsp;&nbsp;</span></a></span></li><li><span><a href=\"#\" data-toc-modified-id=\"-1.5\"><span class=\"toc-item-num\">1.5&nbsp;&nbsp;</span></a></span></li></ul></li><li><span><a href=\"#作业2\" data-toc-modified-id=\"作业2-2\"><span class=\"toc-item-num\">2&nbsp;&nbsp;</span>作业2</a></span><ul class=\"toc-item\"><li><span><a href=\"#\" data-toc-modified-id=\"-2.1\"><span class=\"toc-item-num\">2.1&nbsp;&nbsp;</span></a></span><ul class=\"toc-item\"><li><span><a href=\"#\" data-toc-modified-id=\"-2.1.1\"><span class=\"toc-item-num\">2.1.1&nbsp;&nbsp;</span></a></span></li><li><span><a href=\"#\" data-toc-modified-id=\"-2.1.2\"><span class=\"toc-item-num\">2.1.2&nbsp;&nbsp;</span></a></span></li><li><span><a href=\"#\" data-toc-modified-id=\"-2.1.3\"><span class=\"toc-item-num\">2.1.3&nbsp;&nbsp;</span></a></span></li><li><span><a href=\"#\" data-toc-modified-id=\"-2.1.4\"><span class=\"toc-item-num\">2.1.4&nbsp;&nbsp;</span></a></span></li></ul></li><li><span><a href=\"#\" data-toc-modified-id=\"-2.2\"><span class=\"toc-item-num\">2.2&nbsp;&nbsp;</span></a></span><ul class=\"toc-item\"><li><span><a href=\"#\" data-toc-modified-id=\"-2.2.1\"><span class=\"toc-item-num\">2.2.1&nbsp;&nbsp;</span></a></span></li><li><span><a href=\"#\" data-toc-modified-id=\"-2.2.2\"><span class=\"toc-item-num\">2.2.2&nbsp;&nbsp;</span></a></span></li><li><span><a href=\"#\" data-toc-modified-id=\"-2.2.3\"><span class=\"toc-item-num\">2.2.3&nbsp;&nbsp;</span></a></span></li><li><span><a href=\"#\" data-toc-modified-id=\"-2.2.4\"><span class=\"toc-item-num\">2.2.4&nbsp;&nbsp;</span></a></span></li></ul></li><li><span><a href=\"#\" data-toc-modified-id=\"-2.3\"><span class=\"toc-item-num\">2.3&nbsp;&nbsp;</span></a></span></li><li><span><a href=\"#\" data-toc-modified-id=\"-2.4\"><span class=\"toc-item-num\">2.4&nbsp;&nbsp;</span></a></span><ul class=\"toc-item\"><li><span><a href=\"#\" data-toc-modified-id=\"-2.4.1\"><span class=\"toc-item-num\">2.4.1&nbsp;&nbsp;</span></a></span></li><li><span><a href=\"#\" data-toc-modified-id=\"-2.4.2\"><span class=\"toc-item-num\">2.4.2&nbsp;&nbsp;</span></a></span></li><li><span><a href=\"#\" data-toc-modified-id=\"-2.4.3\"><span class=\"toc-item-num\">2.4.3&nbsp;&nbsp;</span></a></span></li></ul></li></ul></li><li><span><a href=\"#作业3\" data-toc-modified-id=\"作业3-3\"><span class=\"toc-item-num\">3&nbsp;&nbsp;</span>作业3</a></span><ul class=\"toc-item\"><li><span><a href=\"#\" data-toc-modified-id=\"-3.1\"><span class=\"toc-item-num\">3.1&nbsp;&nbsp;</span></a></span></li><li><span><a href=\"#\" data-toc-modified-id=\"-3.2\"><span class=\"toc-item-num\">3.2&nbsp;&nbsp;</span></a></span><ul class=\"toc-item\"><li><span><a href=\"#\" data-toc-modified-id=\"-3.2.1\"><span class=\"toc-item-num\">3.2.1&nbsp;&nbsp;</span></a></span></li><li><span><a href=\"#\" data-toc-modified-id=\"-3.2.2\"><span class=\"toc-item-num\">3.2.2&nbsp;&nbsp;</span></a></span></li><li><span><a href=\"#\" data-toc-modified-id=\"-3.2.3\"><span class=\"toc-item-num\">3.2.3&nbsp;&nbsp;</span></a></span></li></ul></li><li><span><a href=\"#\" data-toc-modified-id=\"-3.3\"><span class=\"toc-item-num\">3.3&nbsp;&nbsp;</span></a></span><ul class=\"toc-item\"><li><span><a href=\"#\" data-toc-modified-id=\"-3.3.1\"><span class=\"toc-item-num\">3.3.1&nbsp;&nbsp;</span></a></span></li><li><span><a href=\"#\" data-toc-modified-id=\"-3.3.2\"><span class=\"toc-item-num\">3.3.2&nbsp;&nbsp;</span></a></span></li></ul></li></ul></li><li><span><a href=\"#作业4\" data-toc-modified-id=\"作业4-4\"><span class=\"toc-item-num\">4&nbsp;&nbsp;</span>作业4</a></span><ul class=\"toc-item\"><li><span><a href=\"#\" data-toc-modified-id=\"-4.1\"><span class=\"toc-item-num\">4.1&nbsp;&nbsp;</span></a></span><ul class=\"toc-item\"><li><span><a href=\"#\" data-toc-modified-id=\"-4.1.1\"><span class=\"toc-item-num\">4.1.1&nbsp;&nbsp;</span></a></span></li><li><span><a href=\"#\" data-toc-modified-id=\"-4.1.2\"><span class=\"toc-item-num\">4.1.2&nbsp;&nbsp;</span></a></span></li></ul></li><li><span><a href=\"#\" data-toc-modified-id=\"-4.2\"><span class=\"toc-item-num\">4.2&nbsp;&nbsp;</span></a></span><ul class=\"toc-item\"><li><span><a href=\"#\" data-toc-modified-id=\"-4.2.1\"><span class=\"toc-item-num\">4.2.1&nbsp;&nbsp;</span></a></span></li><li><span><a href=\"#\" data-toc-modified-id=\"-4.2.2\"><span class=\"toc-item-num\">4.2.2&nbsp;&nbsp;</span></a></span></li></ul></li></ul></li></ul></div>"
   ]
  },
  {
   "cell_type": "markdown",
   "metadata": {
    "heading_collapsed": true
   },
   "source": [
    "## 作业1"
   ]
  },
  {
   "cell_type": "markdown",
   "metadata": {
    "heading_collapsed": true,
    "hidden": true
   },
   "source": [
    "### "
   ]
  },
  {
   "cell_type": "code",
   "execution_count": 14,
   "metadata": {
    "hidden": true
   },
   "outputs": [],
   "source": [
    "import numpy as np\n",
    "import scipy.stats as ss\n",
    "x = [5.3, 2.8, 4.7, 3.8, 4.0, 3.8, 6.3, 5.0, 6.8, 8.1, 6.7, 8.1,\n",
    "    8.1, 8.8, 7.0, 5.3, 7.0, 6.1, 6.3, 4.7, 5.0, 5.4, 4.3, 4.5,\n",
    "    7.7, 5.0, 5.3, 6.2, 5.9, 5.7, 9.3, 8.0, 9.8, 8.7, 8.2, 8.9,\n",
    "    8.1, 8.7, 9.0, 7.4, 9.2, 6.9, 6.0, 6.0, 8.2, 8.5, 6.7, 4.8]"
   ]
  },
  {
   "cell_type": "code",
   "execution_count": 16,
   "metadata": {
    "hidden": true
   },
   "outputs": [
    {
     "name": "stdout",
     "output_type": "stream",
     "text": [
      "下四分位数： [5.225]\n"
     ]
    }
   ],
   "source": [
    "print('下四分位数：', np.percentile(x, [25]))"
   ]
  },
  {
   "cell_type": "code",
   "execution_count": 30,
   "metadata": {
    "hidden": true
   },
   "outputs": [
    {
     "name": "stdout",
     "output_type": "stream",
     "text": [
      "置信水平为90%的区间估计：[4.7, 5.7]\n"
     ]
    }
   ],
   "source": [
    "def qj(p, lv):\n",
    "    n, alpha = len(x), 1 - lv\n",
    "    mu = [i for i in range(1, n + 1)]\n",
    "    for i in mu:\n",
    "        s1 = ss.norm.cdf(i - 1 + 0.5, n * p, np.sqrt(n * p * (1 - p)))\n",
    "        s2 = ss.norm.cdf(i + 0.5, n * p, np.sqrt(n * p * (1 - p)))\n",
    "        if s1 <= alpha/2 and s2 > alpha/2:\n",
    "            break\n",
    "        else:\n",
    "            pass\n",
    "    for j in reversed(mu):\n",
    "        s3 = 1-ss.norm.cdf(j + 0.5, n * p, np.sqrt(n * p * (1 - p)))\n",
    "        s4 = 1-ss.norm.cdf(j - 1 + 0.5, n * p, np.sqrt(n * p * (1 - p)))\n",
    "        if s3 <= alpha/2 and s4 > alpha/2:\n",
    "            break\n",
    "        else:\n",
    "            pass\n",
    "    l, u = np.sort(x)[i - 1], np.sort(x)[j - 1]    \n",
    "    print(\"置信水平为90%%的区间估计：[%s, %s]\" %(l, u))\n",
    "qj(0.25, 0.90)"
   ]
  },
  {
   "cell_type": "code",
   "execution_count": 20,
   "metadata": {
    "hidden": true
   },
   "outputs": [
    {
     "name": "stdout",
     "output_type": "stream",
     "text": [
      "切尾均值估计： 6.308571428571429\n"
     ]
    }
   ],
   "source": [
    "from scipy.stats.mstats import trimmed_mean\n",
    "t = trimmed_mean(x, limits = (0.1, 0.2))\n",
    "print('切尾均值估计：', t)"
   ]
  },
  {
   "cell_type": "code",
   "execution_count": 24,
   "metadata": {
    "hidden": true
   },
   "outputs": [
    {
     "name": "stdout",
     "output_type": "stream",
     "text": [
      "Winsor估计： 6.495833333333334\n"
     ]
    }
   ],
   "source": [
    "from scipy.stats.mstats import winsorize\n",
    "w = winsorize(x, limits = [0.1, 0.2])\n",
    "print(\"Winsor估计：\", np.mean(w))"
   ]
  },
  {
   "cell_type": "code",
   "execution_count": 26,
   "metadata": {
    "hidden": true
   },
   "outputs": [
    {
     "name": "stdout",
     "output_type": "stream",
     "text": [
      "HL点估计： 6.6\n"
     ]
    }
   ],
   "source": [
    "def HL(x):\n",
    "    n = len(x)\n",
    "    nn = [float('{:.2f}'.format((x[i] + x[j])/2)) \n",
    "          for i in range(n) for j in range(n) if i <= j]\n",
    "    print('HL点估计：', np.median(nn))  \n",
    "HL(x)"
   ]
  },
  {
   "cell_type": "code",
   "execution_count": 28,
   "metadata": {
    "hidden": true
   },
   "outputs": [
    {
     "name": "stdout",
     "output_type": "stream",
     "text": [
      "置信水平为90%的HL区间估计：[6.15, 7.05]\n"
     ]
    }
   ],
   "source": [
    "def HLCI(x, lv):\n",
    "    n, nn = len(x), []\n",
    "    for i in range(n):\n",
    "       for j in range(i, n):\n",
    "        nn.append('{:.2f}'.format((x[i] + x[j]) / 2))\n",
    "    nn_new = np.sort(nn)    \n",
    "    u = ss.norm.ppf(1 - (1 - lv)/2)\n",
    "    d1 = int(n * (n + 1)/4 - np.sqrt((n * (n + 1) * (2 * n + 1)/24)) * u) \n",
    "    d2 = int(n * (n + 1)/2 - d1)\n",
    "    down, up = nn_new[d1 - 1], nn_new[d2 - 1]\n",
    "    print('置信水平为%s%%的HL区间估计：[%s, %s]'%(int(100 * lv), down, up))\n",
    "HLCI(x, 0.9)"
   ]
  },
  {
   "cell_type": "markdown",
   "metadata": {
    "heading_collapsed": true,
    "hidden": true
   },
   "source": [
    "### "
   ]
  },
  {
   "cell_type": "code",
   "execution_count": 32,
   "metadata": {
    "hidden": true
   },
   "outputs": [],
   "source": [
    "import numpy as np\n",
    "x = [18.1, 17.7, 17.2, 17.5, 19.1, 17.0, 17.4, 17.5, 17.8, 18.7]\n",
    "y = [16.3, 18.0, 16.6, 16.9, 17.3, 16.9, 17.3, 17.4, 15.6, 16.5]"
   ]
  },
  {
   "cell_type": "code",
   "execution_count": 36,
   "metadata": {
    "hidden": true
   },
   "outputs": [
    {
     "name": "stdout",
     "output_type": "stream",
     "text": [
      "位置差的均值估计： -0.9200\n"
     ]
    }
   ],
   "source": [
    "e1 = '{:.4f}'.format(np.mean(y) - np.mean(x))\n",
    "print('位置差的均值估计：', e1)"
   ]
  },
  {
   "cell_type": "code",
   "execution_count": 35,
   "metadata": {
    "hidden": true
   },
   "outputs": [
    {
     "name": "stdout",
     "output_type": "stream",
     "text": [
      "位置差的中位数估计： -0.7\n"
     ]
    }
   ],
   "source": [
    "e2 = float('{:.4f}'.format(np.median(y) - np.median(x)))\n",
    "print('位置差的中位数估计：', e2)"
   ]
  },
  {
   "cell_type": "code",
   "execution_count": 42,
   "metadata": {
    "hidden": true
   },
   "outputs": [
    {
     "name": "stdout",
     "output_type": "stream",
     "text": [
      "位置差的HL估计： -0.8000\n"
     ]
    }
   ],
   "source": [
    "def HL(x, y):\n",
    "    n1, n2 = len(x), len(y)\n",
    "    nn = [float('{:.2f}'.format(y[j] - x[i])) for i in range(n1) for j in range(n2)]\n",
    "    print('位置差的HL估计：', '{:.4f}'.format(np.median(nn)))\n",
    "HL(x,y)"
   ]
  },
  {
   "cell_type": "code",
   "execution_count": 41,
   "metadata": {
    "hidden": true
   },
   "outputs": [
    {
     "name": "stdout",
     "output_type": "stream",
     "text": [
      "置信水平为80%的HL区间估计：[-1.2, -0.5]\n"
     ]
    }
   ],
   "source": [
    "def HLCI(x, y, lv):\n",
    "    n1, n2 = len(x), len(y)\n",
    "    alpha = 1 - lv\n",
    "    u = ss.norm.ppf(1 - alpha/2, loc = 0, scale = 1)\n",
    "    d = n1 * n2/2 - np.sqrt(n1 * n2 * (n1 + n2 + 1)/12) * u\n",
    "    d1 = int(d + 1)\n",
    "    d2 = n1 * n2 - d1\n",
    "    nn = [float('{:.2f}'.format(y[j] - x[i])) for i in range(n1) for j in range(n2)]\n",
    "    l = np.sort(nn)[d1 - 1]\n",
    "    u = np.sort(nn)[d2 + 1 -1]\n",
    "    print(\"置信水平为%s%%的HL区间估计：[%s, %s]\" %(int(100*lv), l, u))\n",
    "HLCI(x, y, 0.80)"
   ]
  },
  {
   "cell_type": "markdown",
   "metadata": {
    "heading_collapsed": true,
    "hidden": true
   },
   "source": [
    "### "
   ]
  },
  {
   "cell_type": "code",
   "execution_count": 48,
   "metadata": {
    "hidden": true
   },
   "outputs": [
    {
     "name": "stdout",
     "output_type": "stream",
     "text": [
      "检验结果： 接受原假设H0:北京在中位数之上\n"
     ]
    }
   ],
   "source": [
    "import numpy as np\n",
    "from scipy.stats import norm\n",
    "\n",
    "x = [66, 75, 78, 80, 81, 81, 82, 89, 83, 83, 83,\n",
    "    84, 85, 85, 86, 86, 86, 86, 87, 87, 88, 88,\n",
    "    88, 88, 88, 89, 89, 89, 89, 90, 90, 91, 91,\n",
    "    91, 91, 92, 93, 93, 96, 96, 96, 97, 99, 100,\n",
    "    101, 102, 103, 103, 104, 104, 104, 105, 106, 109, 109,\n",
    "    110, 110, 110, 111, 113, 115, 116, 117, 118, 155, 192]\n",
    "x = np.array(x)\n",
    "def large_sample_sign_test(x, p, mu, alpha):\n",
    "    y, n = len(x[x < mu]), len(x)\n",
    "    r1 = np.round(n*p - np.sqrt(n*p*(1 - p))*norm.ppf(1 - alpha))    \n",
    "    if y > r1:\n",
    "        print(\"检验结果：\", \"接受原假设H0:北京在中位数之上\")\n",
    "    else:\n",
    "        print(\"检验结果：\", \"接受备择假设H1:北京在中位数之下\")\n",
    "large_sample_sign_test(x, 0.5, 99, 0.05)"
   ]
  },
  {
   "cell_type": "markdown",
   "metadata": {
    "heading_collapsed": true,
    "hidden": true
   },
   "source": [
    "### "
   ]
  },
  {
   "cell_type": "code",
   "execution_count": 71,
   "metadata": {
    "hidden": true
   },
   "outputs": [
    {
     "name": "stdout",
     "output_type": "stream",
     "text": [
      "选择: 大样本正态分布近似带Yates连续性修正\n",
      "检验P-值 = 0.000000\n",
      "检验结果: 接受备择假设H1：前者的回答人数比后者多\n"
     ]
    }
   ],
   "source": [
    "import numpy as np\n",
    "from scipy.stats import binom, norm\n",
    "def qua_data_sign_test(s1, s0):\n",
    "    n = s1 + s0\n",
    "    if n <= 20 :\n",
    "        p = 1 - binom.cdf(s1 - 1, n, 0.5)\n",
    "        print(\"选择：\", \"小样本二项分布计算\")\n",
    "    else:\n",
    "        p = norm.cdf((n * 0.5 - s1 + 0.5)/np.sqrt(n * 0.5 * (1 - 0.5)))\n",
    "        print(\"选择:\", \"大样本正态分布近似带Yates连续性修正\")    \n",
    "    print(\"检验P-值 = %.6f\" %p)\n",
    "    if p > 0.05:\n",
    "        print(\"检验结果:\", \"接受原假设H0：两种回答的人数一样多\")\n",
    "    else:\n",
    "        print(\"检验结果:\", \"接受备择假设H1：前者的回答人数比后者多\")\n",
    "qua_data_sign_test(1552, 527)"
   ]
  },
  {
   "cell_type": "markdown",
   "metadata": {
    "heading_collapsed": true,
    "hidden": true
   },
   "source": [
    "### "
   ]
  },
  {
   "cell_type": "code",
   "execution_count": 61,
   "metadata": {
    "hidden": true
   },
   "outputs": [
    {
     "name": "stdout",
     "output_type": "stream",
     "text": [
      "stats = 103.5000, p = 0.0694\n"
     ]
    }
   ],
   "source": [
    "import numpy as np\n",
    "from scipy import stats \n",
    "x = np.array([21.5, 23.5, 24.0, 31.5, 28.5, 20.5, 30.0, 23.5, 28.6,\n",
    "              30.5, 33.2, 27.5, 28.2, 22.3, 20.4, 18.9, 27.3, 21.4,\n",
    "              19.9, 31.2, 34.1, 25.2, 28.1, 17.6, 32.7, 26.8])\n",
    "st, p = stats.wilcoxon(x - 28, correction = True)\n",
    "print(\"stats = %.4f, p = %.4f\" %(st, p))"
   ]
  },
  {
   "cell_type": "markdown",
   "metadata": {
    "heading_collapsed": true
   },
   "source": [
    "## 作业2"
   ]
  },
  {
   "cell_type": "markdown",
   "metadata": {
    "heading_collapsed": true,
    "hidden": true
   },
   "source": [
    "### "
   ]
  },
  {
   "cell_type": "code",
   "execution_count": 1,
   "metadata": {
    "hidden": true
   },
   "outputs": [],
   "source": [
    "import numpy as np\n",
    "from scipy.stats import binom, norm\n",
    "x = np.array([48.0, 33.0, 37.5, 48.0, 42.5, 40.0, 42.0, 36.0, 11.3, 22.0,\n",
    "             36.0, 27.3, 14.2, 32.1, 52.0, 38.0, 17.3, 20.0, 21.0, 46.1])\n",
    "y = np.array([37.0, 41.0, 23.4, 17.0, 31.5, 40.0, 31.0, 36.0, 5.7, 11.5,\n",
    "             21.0, 6.1, 26.5, 21.3, 44.5, 28.0, 22.6, 20.0, 11.0, 22.3])"
   ]
  },
  {
   "cell_type": "markdown",
   "metadata": {
    "heading_collapsed": true,
    "hidden": true
   },
   "source": [
    "#### "
   ]
  },
  {
   "cell_type": "code",
   "execution_count": 2,
   "metadata": {
    "hidden": true
   },
   "outputs": [
    {
     "name": "stdout",
     "output_type": "stream",
     "text": [
      "均值检验结果: 接受备择假设H1:均值不等\n"
     ]
    }
   ],
   "source": [
    "def m2_sgtt(x, y, alpha):\n",
    "    n1, n2 = len(x), len(y)\n",
    "    n = min(n1, n2)\n",
    "    d = [x[i] - y[i] for i in range(n) if x[i] - y[i] != 0]\n",
    "    ds = [1 if i < 0 else 0 for i in d]\n",
    "    Z = np.sum(ds)\n",
    "    N = len(d)    \n",
    "    r1 = max(binom.ppf(alpha/2, N, 0.5), 1)\n",
    "    r2 = min(binom.ppf(1 - alpha/2, N, 0.5), N)\n",
    "    if binom.cdf(r1, N, 0.5) > alpha/2 :\n",
    "        r1 = r1 - 1\n",
    "    if (1 - binom.cdf(r2 - 1 , N, 0.5)) > alpha/2 :\n",
    "        r2 = r2 + 1    \n",
    "    if Z > r1 and Z < r2 :\n",
    "        print(\"均值检验结果:\", \"接受原假设H0:均值相等\")\n",
    "    else:\n",
    "        print(\"均值检验结果:\", \"接受备择假设H1:均值不等\")\n",
    "m2_sgtt(x, y, 0.05)"
   ]
  },
  {
   "cell_type": "markdown",
   "metadata": {
    "heading_collapsed": true,
    "hidden": true
   },
   "source": [
    "#### "
   ]
  },
  {
   "cell_type": "code",
   "execution_count": 3,
   "metadata": {
    "hidden": true
   },
   "outputs": [
    {
     "name": "stdout",
     "output_type": "stream",
     "text": [
      "方差一致性的Ansari-Bradly检验:\n",
      "检验统计量:A=209.5, 检验P-值:p=0.9787\n",
      "检验结果: 接受原假设H0：方差相等\n"
     ]
    },
    {
     "name": "stderr",
     "output_type": "stream",
     "text": [
      "E:\\Python\\anaconda3\\lib\\site-packages\\scipy\\stats\\morestats.py:2135: UserWarning: Ties preclude use of exact statistic.\n",
      "  warnings.warn(\"Ties preclude use of exact statistic.\")\n"
     ]
    }
   ],
   "source": [
    "from scipy.stats import ansari\n",
    "\n",
    "diff = np.median(y) - np.median(x)\n",
    "x = x + diff\n",
    "st, p = ansari(x, y)\n",
    "print(\"方差一致性的Ansari-Bradly检验:\")\n",
    "print(\"检验统计量:A=%.1f, 检验P-值:p=%.4f\" %(st, p))\n",
    "if p > 0.05:\n",
    "    print(\"检验结果:\", \"接受原假设H0：方差相等\")\n",
    "else:\n",
    "    print(\"检验结果:\", \"接受备择假设H1：方差不等\")"
   ]
  },
  {
   "cell_type": "markdown",
   "metadata": {
    "heading_collapsed": true,
    "hidden": true
   },
   "source": [
    "#### "
   ]
  },
  {
   "cell_type": "code",
   "execution_count": 105,
   "metadata": {
    "hidden": true
   },
   "outputs": [
    {
     "name": "stdout",
     "output_type": "stream",
     "text": [
      "差值数据中大于0的个数： 5\n",
      "差值数据中小于0的个数： 15\n",
      "接受域：(6, 14)\n",
      "符号检验结果： 接受备择假设H1：差异显著\n"
     ]
    }
   ],
   "source": [
    "def sign_test(x, y, alpha):\n",
    "    z = list(map(lambda x: x[0] - x[1], zip(x, y)))  ## 配对 多余删掉\n",
    "    #print(list(zip(x, y)))\n",
    "    zp = sum([1 if x[i] > y[i] else 0 for i in range(len(z))])  \n",
    "    zn = sum([1 if x[i] < y[i] else 0 for i in range(len(z))])\n",
    "    print(\"差值数据中大于0的个数：\", zp)\n",
    "    print(\"差值数据中小于0的个数：\", zn)\n",
    "    N = zp + zn\n",
    "    r1 = np.round(N*0.5 - np.sqrt(N*0.5*(1 - 0.5))*norm.ppf(1 - alpha/2))\n",
    "    r2 = np.round(N*0.5 + np.sqrt(N*0.5*(1 - 0.5))*norm.ppf(1 - alpha/2))\n",
    "    print(\"接受域：(%s, %s)\" %(int(r1), int(r2)))\n",
    "    if (zp > r1 and zp < r2) :\n",
    "        print(\"符号检验结果：\", \"接受原假设H0：无显著差异\")\n",
    "    else:\n",
    "        print(\"符号检验结果：\", \"接受备择假设H1：差异显著\")\n",
    "sign_test(x, y, 0.05)"
   ]
  },
  {
   "cell_type": "markdown",
   "metadata": {
    "heading_collapsed": true,
    "hidden": true
   },
   "source": [
    "#### "
   ]
  },
  {
   "cell_type": "code",
   "execution_count": 106,
   "metadata": {
    "hidden": true
   },
   "outputs": [
    {
     "name": "stdout",
     "output_type": "stream",
     "text": [
      "检验统计量: T=46.5, 检验P-值: p=0.0266\n",
      "符号秩和检验结果: 接受备择假设H1：差异显著\n"
     ]
    }
   ],
   "source": [
    "from scipy.stats import wilcoxon\n",
    "\n",
    "st, p = wilcoxon(x, y)\n",
    "print(\"检验统计量: T=%.1f, 检验P-值: p=%.4f\" %(st, p))\n",
    "if p > 0.05:\n",
    "    print(\"符号秩和检验结果:\", \"接受原假设H0：无显著差异\")\n",
    "else:\n",
    "    print(\"符号秩和检验结果:\", \"接受备择假设H1：差异显著\")"
   ]
  },
  {
   "cell_type": "markdown",
   "metadata": {
    "heading_collapsed": true,
    "hidden": true
   },
   "source": [
    "### "
   ]
  },
  {
   "cell_type": "code",
   "execution_count": 118,
   "metadata": {
    "hidden": true
   },
   "outputs": [],
   "source": [
    "import numpy as np\n",
    "import pandas as pd\n",
    "from scipy.stats import norm, ranksums, mannwhitneyu, kstest\n",
    "x = [30450, 28500, 30650, 27350, 26550, 31000, 35050, 35700, 35200, 22800, 35600, 25200, 32050,\n",
    "     32350, 26900, 35900, 31300, 30450, 31350, 33550, 30150, 38200, 28950, 31350, 32900, 34100]\n",
    "y = [39700, 33700, 39200, 33250, 32750, 36300, 38800, 34800, 31800, 37250, 41000, 26550, 38200,\n",
    "    33950, 29900, 35500, 30800, 37750, 40400, 36100, 32250, 36700, 37400, 38050]"
   ]
  },
  {
   "cell_type": "markdown",
   "metadata": {
    "heading_collapsed": true,
    "hidden": true
   },
   "source": [
    "#### "
   ]
  },
  {
   "cell_type": "code",
   "execution_count": 112,
   "metadata": {
    "hidden": true
   },
   "outputs": [
    {
     "data": {
      "text/html": [
       "<div>\n",
       "<style scoped>\n",
       "    .dataframe tbody tr th:only-of-type {\n",
       "        vertical-align: middle;\n",
       "    }\n",
       "\n",
       "    .dataframe tbody tr th {\n",
       "        vertical-align: top;\n",
       "    }\n",
       "\n",
       "    .dataframe thead th {\n",
       "        text-align: right;\n",
       "    }\n",
       "</style>\n",
       "<table border=\"1\" class=\"dataframe\">\n",
       "  <thead>\n",
       "    <tr style=\"text-align: right;\">\n",
       "      <th></th>\n",
       "      <th>&lt;=33400.0</th>\n",
       "      <th>&gt;33400.0</th>\n",
       "      <th>合计</th>\n",
       "    </tr>\n",
       "  </thead>\n",
       "  <tbody>\n",
       "    <tr>\n",
       "      <th>X数据</th>\n",
       "      <td>N11=18</td>\n",
       "      <td>N12=8</td>\n",
       "      <td>N1+=26</td>\n",
       "    </tr>\n",
       "    <tr>\n",
       "      <th>Y数据</th>\n",
       "      <td>N21=7</td>\n",
       "      <td>N22=17</td>\n",
       "      <td>N2+=24</td>\n",
       "    </tr>\n",
       "    <tr>\n",
       "      <th>合计</th>\n",
       "      <td>N+1=25</td>\n",
       "      <td>N+2=25</td>\n",
       "      <td>N=50</td>\n",
       "    </tr>\n",
       "  </tbody>\n",
       "</table>\n",
       "</div>"
      ],
      "text/plain": [
       "    <=33400.0 >33400.0      合计\n",
       "X数据    N11=18    N12=8  N1+=26\n",
       "Y数据     N21=7   N22=17  N2+=24\n",
       "合计     N+1=25   N+2=25    N=50"
      ]
     },
     "execution_count": 112,
     "metadata": {},
     "output_type": "execute_result"
    }
   ],
   "source": [
    "z = np.array(x + y)\n",
    "me = np.median(z)\n",
    "N11, N12 = np.sum(x <= me), np.sum(x > me)\n",
    "N21, N22 = np.sum(y <= me), np.sum(y > me)\n",
    "N1_, N2_ = N11 + N12, N21 + N22\n",
    "N_1, N_2 = N11 + N21, N12 + N22\n",
    "N = len(x) + len(y)\n",
    "\n",
    "df = pd.DataFrame(columns = ['<='+str(me), '>'+str(me), '合计'], \n",
    "                  index = ['X数据', 'Y数据', '合计'])\n",
    "df.iloc[0, 0] = 'N11=' + str(N11)\n",
    "df.iloc[0, 1] = 'N12=' + str(N12)\n",
    "df.iloc[1, 0] = 'N21=' + str(N21)\n",
    "df.iloc[1, 1] = 'N22=' + str(N22)\n",
    "df.iloc[0, 2] = 'N1+=' + str(N1_)\n",
    "df.iloc[1, 2] = 'N2+=' + str(N2_)\n",
    "df.iloc[2, 0] = 'N+1=' + str(N_1)\n",
    "df.iloc[2, 1] = 'N+2=' + str(N_2)\n",
    "df.iloc[2, 2] = 'N=' + str(N)\n",
    "df"
   ]
  },
  {
   "cell_type": "code",
   "execution_count": 113,
   "metadata": {
    "hidden": true
   },
   "outputs": [
    {
     "name": "stdout",
     "output_type": "stream",
     "text": [
      "检验统计量: U= 2.8022\n",
      "检验P-值: p= 0.0025\n",
      "Mood检验结果: 接受备择假设H1：女性收入比男性低\n"
     ]
    }
   ],
   "source": [
    "U = np.sqrt(N - 1) * (N11 * N22 - N12 * N21)/np.sqrt(N1_ * N2_ * N_1 * N_2)\n",
    "p = 1 - norm.cdf(U)\n",
    "print('检验统计量: U=', np.round(U, 4))\n",
    "print(\"检验P-值: p=\", np.round(p, 4))\n",
    "\n",
    "if p > 0.05 :\n",
    "    print(\"Mood检验结果:\", \"接受原假设H0：女性收入比男性高\")\n",
    "elif p == 0.05:\n",
    "    print(\"Mood检验结果:\", \"请重新检验\")\n",
    "else:\n",
    "    print(\"Mood检验结果:\", \"接受备择假设H1：女性收入比男性低\")"
   ]
  },
  {
   "cell_type": "markdown",
   "metadata": {
    "heading_collapsed": true,
    "hidden": true
   },
   "source": [
    "#### "
   ]
  },
  {
   "cell_type": "code",
   "execution_count": 114,
   "metadata": {
    "hidden": true
   },
   "outputs": [
    {
     "name": "stdout",
     "output_type": "stream",
     "text": [
      "检验P-值为: p = 0.0003\n",
      "秩和检验结果: 接受备择假设H1：收入不同\n"
     ]
    }
   ],
   "source": [
    "def rstp(x, y):\n",
    "    pval = stats.ranksums(x, y)[1]\n",
    "    print(\"检验P-值为: p =\", '{:.4f}'.format(pval))\n",
    "    if pval > 0.05 :\n",
    "        print(\"秩和检验结果:\", \"接受原假设H0：收入相同\")\n",
    "    elif pval == 0.05 :\n",
    "        print(\"秩和检验结果:\", \"无法判断\")\n",
    "    else :\n",
    "        print(\"秩和检验结果:\", \"接受备择假设H1：收入不同\")          \n",
    "rstp(x, y)"
   ]
  },
  {
   "cell_type": "markdown",
   "metadata": {
    "heading_collapsed": true,
    "hidden": true
   },
   "source": [
    "#### "
   ]
  },
  {
   "cell_type": "code",
   "execution_count": 116,
   "metadata": {
    "hidden": true
   },
   "outputs": [
    {
     "name": "stdout",
     "output_type": "stream",
     "text": [
      "U = 127.0000, p = 0.99984\n",
      "WMW检验结果: 接受原假设H0：女性收入比男性低\n"
     ]
    }
   ],
   "source": [
    "st, p = stats.mannwhitneyu(x, y, alternative = 'greater')\n",
    "print(\"U = %.4f, p = %.5f\" %(st, p))\n",
    "if p > 0.05 :\n",
    "    print(\"WMW检验结果:\", \"接受原假设H0：女性收入比男性低\")\n",
    "elif p == 0.05:\n",
    "    print(\"WMW检验结果:\", \"请重新检验\")\n",
    "else:\n",
    "    print(\"WMW检验结果:\", \"接受备择假设H1：女性收入比男性高\")"
   ]
  },
  {
   "cell_type": "markdown",
   "metadata": {
    "heading_collapsed": true,
    "hidden": true
   },
   "source": [
    "#### "
   ]
  },
  {
   "cell_type": "code",
   "execution_count": 120,
   "metadata": {
    "hidden": true
   },
   "outputs": [
    {
     "name": "stdout",
     "output_type": "stream",
     "text": [
      "D = 0.50321, p = 0.0020\n",
      "KS检验结果: 接受备择假设H1：收入不同\n"
     ]
    }
   ],
   "source": [
    "st, p = kstest(x, y, alternative = 'two-sided')\n",
    "print(\"D = %.5f, p = %.4f\" %(st, p))\n",
    "if p > 0.05 :\n",
    "    print(\"KS检验结果:\", \"接受原假设H0：收入相同\")\n",
    "elif p == 0.05 :\n",
    "    print(\"KS检验结果:\", \"无法判断\")\n",
    "else :\n",
    "    print(\"KS检验结果:\", \"接受备择假设H1：收入不同\") "
   ]
  },
  {
   "cell_type": "markdown",
   "metadata": {
    "heading_collapsed": true,
    "hidden": true
   },
   "source": [
    "### "
   ]
  },
  {
   "cell_type": "code",
   "execution_count": 9,
   "metadata": {
    "hidden": true
   },
   "outputs": [
    {
     "name": "stdout",
     "output_type": "stream",
     "text": [
      "Fisher检验: 赔率比=2.12  P-值=0.4776\n",
      "Fisher检验结果: 接受原假设H0：独立\n"
     ]
    }
   ],
   "source": [
    "import numpy as np\n",
    "from scipy.stats import fisher_exact\n",
    "table = np.array([[8, 2], [34, 18]])\n",
    "st, p = fisher_exact(table)\n",
    "print(\"Fisher检验: 赔率比=%s  P-值=%s\" %(np.round(st, 2), np.round(p, 4)))\n",
    "if p > 0.05 :\n",
    "    print(\"Fisher检验结果:\", \"接受原假设H0：独立\")\n",
    "elif p == 0.05 :\n",
    "    print(\"Fisher检验结果:\", \"无法判断\")\n",
    "else :\n",
    "    print(\"Fisher检验结果:\", \"接受备择假设H1：相关\") "
   ]
  },
  {
   "cell_type": "markdown",
   "metadata": {
    "heading_collapsed": true,
    "hidden": true
   },
   "source": [
    "### "
   ]
  },
  {
   "cell_type": "markdown",
   "metadata": {
    "heading_collapsed": true,
    "hidden": true
   },
   "source": [
    "####  "
   ]
  },
  {
   "cell_type": "code",
   "execution_count": 11,
   "metadata": {
    "hidden": true
   },
   "outputs": [
    {
     "name": "stdout",
     "output_type": "stream",
     "text": [
      "检验P-值=0.0\n",
      "卡方检验结果: 接受备择假设H1：相关\n"
     ]
    }
   ],
   "source": [
    "import numpy as np\n",
    "from scipy.stats import chi2_contingency\n",
    "table = [[28500, 31000, 22800, 32350, 30450, 38200, 34100, 30150, 33550, 27350, 25200, 32050,\n",
    "         30650, 35050, 35600, 26900, 31350, 28950, 32900, 31300, 31350, 35700, 35900, 35200], \n",
    "         [39700, 33250, 31800, 38200, 30800, 32250, 38050, 34800, 32750, 38800, 29900, 37400,\n",
    "         33700, 36300, 37250, 33950, 37750, 36700, 36100, 26550, 39200, 41000, 40400, 35500]]\n",
    "st, p, df, exp = chi2_contingency(table)\n",
    "print(\"检验P-值=%s\" %('{:.6}'.format(p)))\n",
    "if p > 0.05 :\n",
    "    print(\"卡方检验结果:\", \"接受原假设H0：独立\")\n",
    "elif p == 0.05 :\n",
    "    print(\"卡方检验结果:\", \"无法判断\")\n",
    "else :\n",
    "    print(\"卡方检验结果:\", \"接受备择假设H1：相关\") "
   ]
  },
  {
   "cell_type": "markdown",
   "metadata": {
    "heading_collapsed": true,
    "hidden": true
   },
   "source": [
    "#### "
   ]
  },
  {
   "cell_type": "code",
   "execution_count": 15,
   "metadata": {
    "hidden": true
   },
   "outputs": [
    {
     "name": "stdout",
     "output_type": "stream",
     "text": [
      "Spearman秩相关系数:r_s = 0.91, 检验P-值:p = 0.0000\n",
      "Spearman检验结果: 接受备择假设H1：女性收入与工龄相关\n"
     ]
    }
   ],
   "source": [
    "from scipy.stats import spearmanr\n",
    "x = [28500, 31000, 22800, 32350, 30450, 38200, 34100, 30150, 33550, 27350, 25200, 32050,\n",
    "     30650, 35050, 35600, 26900, 31350, 28950, 32900, 31300, 31350, 35700, 35900, 35200]\n",
    "y = [2, 3, 0, 3, 1, 21, 8, 5, 18, 0, 0, 4, 2, 16, 29, 0, 2, 0, 11, 11, 2, 19, 15, 20]\n",
    "coef, p = spearmanr(x, y)\n",
    "print('Spearman秩相关系数:r_s = %.2f, 检验P-值:p = %.4f' %(coef, p))\n",
    "if p > 0.05 :\n",
    "    print(\"Spearman检验结果:\", \"接受原假设H0：女性收入与工龄独立\")\n",
    "elif p == 0.05 :\n",
    "    print(\"Spearman检验结果:\", \"无法判断\")\n",
    "else :\n",
    "    print(\"Spearman检验结果:\", \"接受备择假设H1：女性收入与工龄相关\") "
   ]
  },
  {
   "cell_type": "markdown",
   "metadata": {
    "heading_collapsed": true,
    "hidden": true
   },
   "source": [
    "#### "
   ]
  },
  {
   "cell_type": "code",
   "execution_count": 16,
   "metadata": {
    "hidden": true
   },
   "outputs": [
    {
     "name": "stdout",
     "output_type": "stream",
     "text": [
      "Kendall相关系数:tau = 0.4132, 检验P-值:p = 0.0050\n",
      "Kendall检验结果: 接受备择假设H1：男性收入与工龄相关\n"
     ]
    }
   ],
   "source": [
    "from scipy.stats import kendalltau\n",
    "x = [39700, 33250, 31800, 38200, 30800, 32250, 38050, 34800, 32750, 38800, 29900, 37400,\n",
    "     33700, 36300, 37250, 33950, 37750, 36700, 36100, 26550, 39200, 41000, 40400, 35500]\n",
    "y = [16, 15, 16, 32, 1, 7, 33, 24, 17, 21, 6, 20, 25, 33, 19, 34, 44, 14, 19, 3, 19, 31, 35, 23]\n",
    "coef, p = kendalltau(x, y)\n",
    "print('Kendall相关系数:tau = %.4f, 检验P-值:p = %.4f' %(coef, p))\n",
    "if p > 0.05 :\n",
    "    print(\"Kendall检验结果:\", \"接受原假设H0：男性收入与工龄独立\")\n",
    "elif p == 0.05 :\n",
    "    print(\"Kendall检验结果:\", \"无法判断\")\n",
    "else :\n",
    "    print(\"Kendall检验结果:\", \"接受备择假设H1：男性收入与工龄相关\") "
   ]
  },
  {
   "cell_type": "markdown",
   "metadata": {
    "heading_collapsed": true
   },
   "source": [
    "## 作业3"
   ]
  },
  {
   "cell_type": "markdown",
   "metadata": {
    "heading_collapsed": true,
    "hidden": true
   },
   "source": [
    "### "
   ]
  },
  {
   "cell_type": "code",
   "execution_count": 20,
   "metadata": {
    "hidden": true
   },
   "outputs": [
    {
     "name": "stdout",
     "output_type": "stream",
     "text": [
      "检验统计量 = 17.6258, 检验P-值 = 0.007239\n",
      "多总体卡方检验结果: 接受备择假设H1：购买习惯有显著差异\n"
     ]
    }
   ],
   "source": [
    "import numpy as np\n",
    "from scipy.stats import chi2_contingency\n",
    "\n",
    "table = np.array([[25, 69, 36], [40, 51, 26], [47, 74, 19], [46, 57, 37]])\n",
    "chi2_t = chi2_contingency(table)\n",
    "st, p = chi2_t[0], chi2_t[1]\n",
    "print('检验统计量 = %.4f, 检验P-值 = %.6f' % (st, p))\n",
    "if p > 0.05 :\n",
    "    print(\"多总体卡方检验结果:\", \"接受原假设H0：购买习惯相同\")\n",
    "elif p == 0.05 :\n",
    "    print(\"多总体卡方检验结果:\", \"无法判断\")\n",
    "else :\n",
    "    print(\"多总体卡方检验结果:\", \"接受备择假设H1：购买习惯有显著差异\") "
   ]
  },
  {
   "cell_type": "markdown",
   "metadata": {
    "heading_collapsed": true,
    "hidden": true
   },
   "source": [
    "### "
   ]
  },
  {
   "cell_type": "code",
   "execution_count": 9,
   "metadata": {
    "hidden": true
   },
   "outputs": [],
   "source": [
    "from scipy.stats import kruskal, friedmanchisquare\n",
    "x1 = [79, 83, 60, 80, 73, 69, 57, 74, 78, 76, 77, 82, 75, 72, 71, 54]\n",
    "x2 = [87, 96, 61, 83, 68, 55, 71, 80, 79, 76, 78, 90, 70, 63, 74, 73]\n",
    "x3 = [81, 81, 65, 84, 78, 72, 77, 80, 68, 80, 78, 87, 74, 81, 73, 67]"
   ]
  },
  {
   "cell_type": "markdown",
   "metadata": {
    "heading_collapsed": true,
    "hidden": true
   },
   "source": [
    "#### "
   ]
  },
  {
   "cell_type": "code",
   "execution_count": 4,
   "metadata": {
    "hidden": true
   },
   "outputs": [
    {
     "name": "stdout",
     "output_type": "stream",
     "text": [
      "检验统计量:H=1.5979, 检验P-值:p=0.449811\n",
      "Kruskal-Wallis秩和检验结果: 接受原假设H0，三门课程的成绩一致\n"
     ]
    }
   ],
   "source": [
    "st1, p1 = kruskal(x1, x2, x3)\n",
    "print(\"检验统计量:H=%.4f, 检验P-值:p=%.6f\" %(st1, p1))\n",
    "if p1 > 0.05 :\n",
    "    print(\"Kruskal-Wallis秩和检验结果:\",\"接受原假设H0，三门课程的成绩一致\")\n",
    "elif p1 < 0.05 :\n",
    "    print(\"Kruskal-Wallis秩和检验结果:\",\"接受备择假设H1，三门课程的成绩不一致\")\n",
    "else:\n",
    "    print(\"检验结果:\",\"无法判断\")"
   ]
  },
  {
   "cell_type": "markdown",
   "metadata": {
    "heading_collapsed": true,
    "hidden": true
   },
   "source": [
    "#### "
   ]
  },
  {
   "cell_type": "code",
   "execution_count": 2,
   "metadata": {
    "hidden": true
   },
   "outputs": [
    {
     "name": "stdout",
     "output_type": "stream",
     "text": [
      "检验统计量:Q=7.5082, 检验P-值:p=0.023422\n",
      "Friedman检验结果: 接受备择假设H1，三门课程的成绩不一致\n"
     ]
    }
   ],
   "source": [
    "st2, p2 = friedmanchisquare(x1, x2, x3)\n",
    "print(\"检验统计量:Q=%.4f, 检验P-值:p=%.6f\" %(st2, p2))\n",
    "if p2 > 0.05 :\n",
    "    print(\"Friedman检验结果:\",\"接受原假设H0，三门课程的成绩一致\")\n",
    "elif p2 < 0.05 :\n",
    "    print(\"Friedman检验结果:\",\"接受备择假设H1，三门课程的成绩不一致\")\n",
    "else:\n",
    "    print(\"检验结果:\",\"无法判断\")"
   ]
  },
  {
   "cell_type": "code",
   "execution_count": null,
   "metadata": {
    "hidden": true
   },
   "outputs": [],
   "source": [
    "data = pd.DataFrame({'x1':x1, 'x2':x2, 'x3':x3})\n",
    "data = data.T\n",
    "k, n = data.shape[0], data.shape[1]\n",
    "\n",
    "for j in range(n) :\n",
    "    data.iloc[:, j] = ss.rankdata(data.iloc[:, j])\n",
    "data['秩和'] = data.sum(1)\n",
    "data['平均秩'] = np.round(data['秩和']/n, 1)\n",
    "\n",
    "R_bar = data['秩和'].sum()/(k * n)\n",
    "print('整体平均秩:R_bar =', R_bar)\n",
    "SSB = n * np.sum((data['平均秩'] - R_bar)**2)\n",
    "print('组间平方和:SSB =', float('{:.4f}'.format(SSB)))\n",
    "Q = 12 * SSB /(k*(k + 1))\n",
    "print('检验统计量:Q =', float('{:.4f}'.format(Q)))\n",
    "\n",
    "from scipy.stats import chi2\n",
    "p = 1 - chi2.cdf(Q, k-1)\n",
    "print('大样本检验P-值:p =', float('{:.4f}'.format(p)))"
   ]
  },
  {
   "cell_type": "markdown",
   "metadata": {
    "heading_collapsed": true,
    "hidden": true
   },
   "source": [
    "#### "
   ]
  },
  {
   "cell_type": "code",
   "execution_count": 3,
   "metadata": {
    "hidden": true
   },
   "outputs": [
    {
     "name": "stdout",
     "output_type": "stream",
     "text": [
      "HL检验统计量：L = 5.133\n",
      "HL检验P-值：p = 0.077\n",
      "HL检验结果： 接受原假设H0，三门课程的成绩一致\n"
     ]
    }
   ],
   "source": [
    "import numpy as np\n",
    "import pandas as pd\n",
    "import scipy.stats as ss\n",
    "Data = pd.DataFrame({'回归':x1, '多元':x2, '时序':x3})\n",
    "def HL_test(data) :\n",
    "    n, k = data.shape[0], data.shape[1]\n",
    "    N = k * n\n",
    "    data['区组均值'] = data.mean(1)\n",
    "    data = data.T\n",
    "\n",
    "    for i in range(k) :\n",
    "        data.iloc[i, :] = data.iloc[i, :] - data.iloc[k, :]\n",
    "    data_new = data.iloc[:-1, :]\n",
    "\n",
    "    ranks = ss.rankdata(data_new)\n",
    "    re_rank = ranks.reshape(k, n)\n",
    "    data_r = pd.DataFrame(re_rank)\n",
    "\n",
    "    L_mo = (k - 1)*(np.sum(data_r.sum(1)**2) - n*N*(N + 1)**2/4)\n",
    "    L_de = N*(N + 1)*(2*N + 1)/6 - np.sum(data_r.sum(0)**2)/k\n",
    "    L = float('{:.3f}'.format(L_mo/L_de))\n",
    "    p = float('{:.3f}'.format(1 - ss.chi2.cdf(L, k - 1)))\n",
    "    if p > 0.05 :\n",
    "        c = '接受原假设H0，三门课程的成绩一致'\n",
    "    elif p == 0.05 :\n",
    "        c = '结论不明确'\n",
    "    else :\n",
    "        c = '接受备择假设H1，三门课程的成绩不一致'\n",
    "    print('HL检验统计量：L =',L), \n",
    "    print('HL检验P-值：p =', p), \n",
    "    print('HL检验结果：', c)\n",
    "HL_test(Data)"
   ]
  },
  {
   "cell_type": "markdown",
   "metadata": {
    "heading_collapsed": true,
    "hidden": true
   },
   "source": [
    "### "
   ]
  },
  {
   "cell_type": "code",
   "execution_count": 63,
   "metadata": {
    "hidden": true
   },
   "outputs": [],
   "source": [
    "import numpy as np\n",
    "import pandas as pd\n",
    "\n",
    "data = pd.DataFrame([[10.8, 13.7, 11.5, 10.2, 8.0, 10.8, 14.9, 10.8, 12.5, 16.2],\n",
    "                     [6.2, 16.8, 6.8, 6.4, 7.9, 11.1, 10.8, 10.0, 11.8, 16.4],\n",
    "                     [4.1, 16.8, 4.0, 3.1, 7.5, 6.2, 9.9, 6.8, 13.2, 15.4],\n",
    "                     [5.0, 15.6, 3.5, 3.0, 7.0, 7.0, 9.4, 4.6, 11.0, 10.2],\n",
    "                     [5.0, 11.7, 1.7, 2.6, 3.6, 3.8, 10.5, 4.2, 8.2, 8.3],\n",
    "                     [3.4, 12.5, 1.6, 2.2, 4.0, 4.3, 7.7, 3.8, 6.8, 10.7],\n",
    "                     [2.6, 10.6, 1.6, 2.0, 3.0, 5.6, 7.6, 3.5, 6.0, 7.4]])"
   ]
  },
  {
   "cell_type": "markdown",
   "metadata": {
    "heading_collapsed": true,
    "hidden": true
   },
   "source": [
    "#### "
   ]
  },
  {
   "cell_type": "code",
   "execution_count": 64,
   "metadata": {
    "hidden": true
   },
   "outputs": [
    {
     "name": "stdout",
     "output_type": "stream",
     "text": [
      "J-T检验统计量:J = 572\n",
      "J-T检验P-值:p = 0.0\n",
      "J-T检验结果: 接受备择假设H1，随出生天数增加而减少\n"
     ]
    }
   ],
   "source": [
    "data_1 = data.T\n",
    "n, k = data_1.shape[0], data_1.shape[1]\n",
    "N = n * k\n",
    "W = []\n",
    "for i in range(k-1):\n",
    "    for j in range(i+1, k):\n",
    "        W += [np.sum([r < s for s in data_1.iloc[:, j]]) for r in data_1.iloc[:, i]]\n",
    "print('J-T检验统计量:J =', np.sum(W))\n",
    "J = np.sum(W)\n",
    "E_J = (N**2 - (n**2)*5)/4\n",
    "Var_J = ((N**2)*(2*N + 3) - (n**2)*(2*n + 3)*5)/72\n",
    "p = norm.cdf(J, E_J, np.sqrt(Var_J))\n",
    "print('J-T检验P-值:p =', float('{:.4f}'.format(p)))\n",
    "if p > 0.05 :\n",
    "    print(\"J-T检验结果:\",\"接受原假设H0，不随出生天数增加而减少\")\n",
    "elif p < 0.05 :\n",
    "    print(\"J-T检验结果:\",\"接受备择假设H1，随出生天数增加而减少\")\n",
    "else:\n",
    "    print(\"检验结果:\",\"无法判断\")"
   ]
  },
  {
   "cell_type": "markdown",
   "metadata": {
    "heading_collapsed": true,
    "hidden": true
   },
   "source": [
    "#### "
   ]
  },
  {
   "cell_type": "code",
   "execution_count": 70,
   "metadata": {
    "hidden": true
   },
   "outputs": [
    {
     "name": "stdout",
     "output_type": "stream",
     "text": [
      "Page检验统计量：P = 952.5\n",
      "Page检验P-值：p = 1.0\n",
      "Page检验结果: 接受原假设H0，不随出生天数增加而减少\n"
     ]
    }
   ],
   "source": [
    "from scipy.stats import norm, rankdata\n",
    "\n",
    "data_2 = data\n",
    "k, n = data_2.shape[0], data_2.shape[1]\n",
    "for j in range(n) :\n",
    "    data_2.iloc[:, j] = ss.rankdata(data_2.iloc[:, j])\n",
    "data_2['秩和R_i+'] = data_2.sum(1)\n",
    "i = np.arange(1, k + 1)\n",
    "P = np.dot(i, data_2['秩和R_i+'])\n",
    "print('Page检验统计量：P =', P)\n",
    "E_P = n*k*((k + 1)**2)/4\n",
    "Var_P = n*(k**2)*((k + 1)**2)*(k - 1)/144\n",
    "p = 1 - ss.norm.cdf(P, E_P, np.sqrt(Var_P))\n",
    "print('Page检验P-值：p =', float('{:.4f}'.format(p)))\n",
    "if p > 0.05 :\n",
    "    print(\"Page检验结果:\",\"接受原假设H0，不随出生天数增加而减少\")\n",
    "elif p < 0.05 :\n",
    "    print(\"Page检验结果:\",\"接受备择假设H1，随出生天数增加而减少\")\n",
    "else:\n",
    "    print(\"检验结果:\",\"无法判断\")"
   ]
  },
  {
   "cell_type": "markdown",
   "metadata": {
    "heading_collapsed": true
   },
   "source": [
    "## 作业4"
   ]
  },
  {
   "cell_type": "markdown",
   "metadata": {
    "heading_collapsed": true,
    "hidden": true
   },
   "source": [
    "### "
   ]
  },
  {
   "cell_type": "markdown",
   "metadata": {
    "heading_collapsed": true,
    "hidden": true
   },
   "source": [
    "#### "
   ]
  },
  {
   "cell_type": "code",
   "execution_count": 38,
   "metadata": {
    "hidden": true
   },
   "outputs": [
    {
     "name": "stdout",
     "output_type": "stream",
     "text": [
      "Pearson拟合优度卡方检验：\n",
      "检验统计量=18.4107, 检验P-值=0.14253709623097854\n",
      "检验结果: 接受原假设H0，服从正态分布。\n"
     ]
    }
   ],
   "source": [
    "##  Pearson拟合优度卡方检验\n",
    "import numpy as np\n",
    "import pandas as pd\n",
    "from scipy.stats import norm, chisquare\n",
    "\n",
    "data = [36, 36, 37, 38, 40, 41, 42, 43, 43, 44, 45, 48, 48, 50, 50, 51, 52, 53, 54, 54,\n",
    "       56, 56, 57, 57, 58, 58, 58, 58, 59, 59, 59, 60, 60, 60, 61, 61, 62, 62, 62, 63,\n",
    "       63, 65, 65, 66, 68, 68, 70, 73, 73, 75]\n",
    "bin = [i for i in range(min(data)-2, max(data)+2, 3)]\n",
    "huafen = pd.cut(data, bins = bin)\n",
    "pinshu = list(huafen.value_counts())\n",
    "n, m = np.sum(pinshu), len(pinshu)\n",
    "NF = norm.cdf(bin, np.mean(data), np.std(data))\n",
    "N_p = [NF[0]] + [NF[i] - NF[i - 1] for i in range(1, m - 1)] + [1 - NF[m - 2]]\n",
    "exp = [n*i for i in N_p]\n",
    "N_p, exp = np.round(N_p, 4), np.round(exp, 2)\n",
    "st, p = chisquare(pinshu, exp)\n",
    "print(\"Pearson拟合优度卡方检验：\")\n",
    "print(\"检验统计量=%.4f, 检验P-值=%s\" %(st, p))\n",
    "if p > 0.05 :\n",
    "    print(\"检验结果:\",\"接受原假设H0，服从正态分布。\")\n",
    "elif p < 0.05 :\n",
    "    print(\"检验结果:\",\"接受备择假设H1，不服从正态分布。\")\n",
    "else:\n",
    "    print(\"检验结果:\",\"无法判断\")"
   ]
  },
  {
   "cell_type": "code",
   "execution_count": 42,
   "metadata": {
    "hidden": true
   },
   "outputs": [
    {
     "name": "stdout",
     "output_type": "stream",
     "text": [
      "Kolmogorov-Smirnov检验：\n",
      "检验统计量:D=0.12, 检验P-值:p=0.4521\n",
      "检验结果: 接受原假设H0，服从正态分布。\n"
     ]
    }
   ],
   "source": [
    "## Kolmogorov-Smirnov检验\n",
    "import numpy as np\n",
    "from scipy.stats import kstest\n",
    "data = [36, 36, 37, 38, 40, 41, 42, 43, 43, 44, 45, 48, 48, 50, 50, 51, 52, 53, 54, 54,\n",
    "       56, 56, 57, 57, 58, 58, 58, 58, 59, 59, 59, 60, 60, 60, 61, 61, 62, 62, 62, 63,\n",
    "       63, 65, 65, 66, 68, 68, 70, 73, 73, 75]\n",
    "st, p = kstest(data, 'norm', (np.mean(data), np.std(data)))\n",
    "print(\"Kolmogorov-Smirnov检验：\")\n",
    "print(\"检验统计量:D=%.2f, 检验P-值:p=%.4f\" %(st, p))\n",
    "if p > 0.05 :\n",
    "    print(\"检验结果:\",\"接受原假设H0，服从正态分布。\")\n",
    "elif p < 0.05 :\n",
    "    print(\"检验结果:\",\"接受备择假设H1，不服从正态分布。\")\n",
    "else:\n",
    "    print(\"检验结果:\",\"无法判断\")"
   ]
  },
  {
   "cell_type": "code",
   "execution_count": 43,
   "metadata": {
    "hidden": true
   },
   "outputs": [
    {
     "name": "stdout",
     "output_type": "stream",
     "text": [
      "Shapiro-Wilk检验：\n",
      "检验统计量=0.9649, 检验P-值=0.1431\n",
      "检验结果: 接受原假设H0，服从正态分布。\n"
     ]
    }
   ],
   "source": [
    "## Shapiro-Wilk检验\n",
    "from scipy.stats import shapiro\n",
    "data = [36, 36, 37, 38, 40, 41, 42, 43, 43, 44, 45, 48, 48, 50, 50, 51, 52, 53, 54, 54,\n",
    "       56, 56, 57, 57, 58, 58, 58, 58, 59, 59, 59, 60, 60, 60, 61, 61, 62, 62, 62, 63,\n",
    "       63, 65, 65, 66, 68, 68, 70, 73, 73, 75]\n",
    "print(\"Shapiro-Wilk检验：\")\n",
    "st, p = shapiro(data)\n",
    "print(\"检验统计量=%.4f, 检验P-值=%.4f\" %(st, p))\n",
    "if p > 0.05 :\n",
    "    print(\"检验结果:\",\"接受原假设H0，服从正态分布。\")\n",
    "elif p < 0.05 :\n",
    "    print(\"检验结果:\",\"接受备择假设H1，不服从正态分布。\")\n",
    "else:\n",
    "    print(\"检验结果:\",\"无法判断\")"
   ]
  },
  {
   "cell_type": "code",
   "execution_count": 44,
   "metadata": {
    "hidden": true
   },
   "outputs": [
    {
     "name": "stdout",
     "output_type": "stream",
     "text": [
      "D'Agostino's K-squared检验：\n",
      "检验统计量=1.7994, 检验P-值=0.4067\n",
      "检验结果: 接受原假设H0，服从正态分布。\n"
     ]
    }
   ],
   "source": [
    "## D'Agostino's K-squared检验\n",
    "from scipy.stats import normaltest\n",
    "data = [36, 36, 37, 38, 40, 41, 42, 43, 43, 44, 45, 48, 48, 50, 50, 51, 52, 53, 54, 54,\n",
    "       56, 56, 57, 57, 58, 58, 58, 58, 59, 59, 59, 60, 60, 60, 61, 61, 62, 62, 62, 63,\n",
    "       63, 65, 65, 66, 68, 68, 70, 73, 73, 75]\n",
    "print(\"D'Agostino's K-squared检验：\")\n",
    "st, p = normaltest(data)\n",
    "print(\"检验统计量=%.4f, 检验P-值=%.4f\" %(st, p))\n",
    "if p > 0.05 :\n",
    "    print(\"检验结果:\",\"接受原假设H0，服从正态分布。\")\n",
    "elif p < 0.05 :\n",
    "    print(\"检验结果:\",\"接受备择假设H1，不服从正态分布。\")\n",
    "else:\n",
    "    print(\"检验结果:\",\"无法判断\")"
   ]
  },
  {
   "cell_type": "code",
   "execution_count": 46,
   "metadata": {
    "hidden": true
   },
   "outputs": [
    {
     "name": "stdout",
     "output_type": "stream",
     "text": [
      "Anderson–Darling检验：\n",
      "显著性水平: [15.  10.   5.   2.5  1. ]\n",
      "检验临界值: [0.538 0.613 0.736 0.858 1.021]\n",
      "检验结果: 接受原假设H0，服从正态分布。\n"
     ]
    }
   ],
   "source": [
    "## Anderson–Darling检验\n",
    "from scipy.stats import anderson\n",
    "data = [36, 36, 37, 38, 40, 41, 42, 43, 43, 44, 45, 48, 48, 50, 50, 51, 52, 53, 54, 54,\n",
    "       56, 56, 57, 57, 58, 58, 58, 58, 59, 59, 59, 60, 60, 60, 61, 61, 62, 62, 62, 63,\n",
    "       63, 65, 65, 66, 68, 68, 70, 73, 73, 75]\n",
    "print(\"Anderson–Darling检验：\")\n",
    "res = anderson(data)\n",
    "print(\"显著性水平:\", res.significance_level)\n",
    "print(\"检验临界值:\", res.critical_values)\n",
    "if res.statistic > 0.05 :\n",
    "    print(\"检验结果:\",\"接受原假设H0，服从正态分布。\")\n",
    "elif res.statistic < 0.05 :\n",
    "    print(\"检验结果:\",\"接受备择假设H1，不服从正态分布。\")\n",
    "else:\n",
    "    print(\"检验结果:\",\"无法判断\")"
   ]
  },
  {
   "cell_type": "markdown",
   "metadata": {
    "heading_collapsed": true,
    "hidden": true
   },
   "source": [
    "#### "
   ]
  },
  {
   "cell_type": "code",
   "execution_count": 57,
   "metadata": {
    "hidden": true
   },
   "outputs": [
    {
     "name": "stdout",
     "output_type": "stream",
     "text": [
      "数据计算表:\n",
      "             0          1         2          3         4          5         6   \\\n",
      "观测点  34.000000  37.000000  40.00000  43.000000  46.00000  49.000000  52.00000   \n",
      "核估计   0.006675   0.016562   0.01803   0.021681   0.01534   0.019403   0.02322   \n",
      "\n",
      "            7          8          9          10         11         12  \\\n",
      "观测点  55.000000  58.000000  61.000000  64.000000  67.000000  70.000000   \n",
      "核估计   0.030854   0.051475   0.049067   0.029577   0.018302   0.012485   \n",
      "\n",
      "            13         14  \n",
      "观测点  73.000000  76.000000  \n",
      "核估计   0.012044   0.006111  \n"
     ]
    },
    {
     "name": "stderr",
     "output_type": "stream",
     "text": [
      "e:\\anaconda3\\lib\\site-packages\\seaborn\\distributions.py:2551: FutureWarning: `distplot` is a deprecated function and will be removed in a future version. Please adapt your code to use either `displot` (a figure-level function with similar flexibility) or `histplot` (an axes-level function for histograms).\n",
      "  warnings.warn(msg, FutureWarning)\n",
      "e:\\anaconda3\\lib\\site-packages\\seaborn\\distributions.py:2055: FutureWarning: The `axis` variable is no longer used and will be removed. Instead, assign variables directly to `x` or `y`.\n",
      "  warnings.warn(msg, FutureWarning)\n",
      "e:\\anaconda3\\lib\\site-packages\\seaborn\\distributions.py:2551: FutureWarning: `distplot` is a deprecated function and will be removed in a future version. Please adapt your code to use either `displot` (a figure-level function with similar flexibility) or `histplot` (an axes-level function for histograms).\n",
      "  warnings.warn(msg, FutureWarning)\n",
      "e:\\anaconda3\\lib\\site-packages\\seaborn\\distributions.py:2055: FutureWarning: The `axis` variable is no longer used and will be removed. Instead, assign variables directly to `x` or `y`.\n",
      "  warnings.warn(msg, FutureWarning)\n"
     ]
    },
    {
     "data": {
      "image/png": "[encoded data removed]",
      "text/plain": [
       "<Figure size 864x360 with 2 Axes>"
      ]
     },
     "metadata": {
      "needs_background": "light"
     },
     "output_type": "display_data"
    }
   ],
   "source": [
    "## Parzen核密度估计 - 标准正态分布核函数\n",
    "import math\n",
    "import numpy as np\n",
    "import pandas as pd\n",
    "from scipy.stats import norm\n",
    "import matplotlib.pyplot as plt\n",
    "import seaborn as sns\n",
    "plt.rcParams['font.sans-serif']=['SimHei']\n",
    "data = [36, 36, 37, 38, 40, 41, 42, 43, 43, 44, 45, 48, 48, 50, 50, 51, 52, 53, 54, 54,\n",
    "       56, 56, 57, 57, 58, 58, 58, 58, 59, 59, 59, 60, 60, 60, 61, 61, 62, 62, 62, 63,\n",
    "       63, 65, 65, 66, 68, 68, 70, 73, 73, 75]\n",
    "x0 = np.arange(min(data)-2, max(data)+2, 3)\n",
    "def KEE(x, y, hn):\n",
    "    n, m = len(x), len(y)   \n",
    "    def KE(z, zi, hn):  \n",
    "        return(norm.pdf((z-zi)/hn))  if abs((z-zi)/hn) < 3 else 0\n",
    "    ke = []\n",
    "    for i in range(m): \n",
    "        ke += [np.sum([KE(y[i], j, hn) for j in x])/(n*hn)]\n",
    "    df = pd.DataFrame({\"观测点\":y, \"核估计\":ke})    \n",
    "    return(df)\n",
    "KEE = KEE(data, x0, 2)\n",
    "print(\"数据计算表:\\n\", KEE.T)\n",
    "plt.figure(figsize = (12, 5))\n",
    "plt.subplot(121)\n",
    "plt.title(\"拟合曲线与kde曲线对比\")\n",
    "sns.distplot(data, bins = 10, kde = True, rug = True, axlabel='x')\n",
    "plt.plot(KEE[\"观测点\"], KEE[\"核估计\"], color = 'red', linestyle = '--')\n",
    "plt.subplot(122)\n",
    "plt.title(\"拟合曲线与正态曲线对比\")\n",
    "sns.distplot(data, bins = 10, kde = False, fit = norm, rug = True, axlabel='x')\n",
    "plt.plot(KEE[\"观测点\"], KEE[\"核估计\"], color = 'red', linestyle = '-.')\n",
    "plt.show()"
   ]
  },
  {
   "cell_type": "code",
   "execution_count": 124,
   "metadata": {
    "hidden": true
   },
   "outputs": [
    {
     "name": "stdout",
     "output_type": "stream",
     "text": [
      "数据计算表:\n",
      "     观测点         所属区间                  落入样本  窗宽dk   NN估计\n",
      "0    34  [31.0,37.0]          [36, 36, 37]   3.0  0.010\n",
      "1    36  [35.0,37.0]          [36, 36, 37]   1.0  0.030\n",
      "2    38  [36.0,40.0]  [36, 36, 37, 38, 40]   2.0  0.015\n",
      "3    40  [38.0,42.0]      [38, 40, 41, 42]   2.0  0.015\n",
      "4    42  [41.0,43.0]      [41, 42, 43, 43]   1.0  0.030\n",
      "5    44  [43.0,45.0]      [43, 43, 44, 45]   1.0  0.030\n",
      "6    46  [44.0,48.0]      [44, 45, 48, 48]   2.0  0.015\n",
      "7    48  [46.0,50.0]      [48, 48, 50, 50]   2.0  0.015\n",
      "8    50  [49.0,51.0]          [50, 50, 51]   1.0  0.030\n",
      "9    52  [51.0,53.0]          [51, 52, 53]   1.0  0.030\n",
      "10   54  [53.0,55.0]          [53, 54, 54]   1.0  0.030\n",
      "11   56  [55.0,57.0]      [56, 56, 57, 57]   1.0  0.030\n",
      "12   58  [57.5,58.5]      [58, 58, 58, 58]   0.5  0.060\n",
      "13   60  [59.5,60.5]          [60, 60, 60]   0.5  0.060\n",
      "14   62  [61.5,62.5]          [62, 62, 62]   0.5  0.060\n",
      "15   64  [63.0,65.0]      [63, 63, 65, 65]   1.0  0.030\n",
      "16   66  [65.0,67.0]          [65, 65, 66]   1.0  0.030\n",
      "17   68  [66.0,70.0]      [66, 68, 68, 70]   2.0  0.015\n",
      "18   70  [68.0,72.0]          [68, 68, 70]   2.0  0.015\n",
      "19   72  [70.0,74.0]          [70, 73, 73]   2.0  0.015\n",
      "20   74  [73.0,75.0]          [73, 73, 75]   1.0  0.030\n",
      "21   76  [73.0,79.0]          [73, 73, 75]   3.0  0.010\n"
     ]
    },
    {
     "data": {
      "image/png": "[encoded data removed]",
      "text/plain": [
       "<Figure size 432x288 with 1 Axes>"
      ]
     },
     "metadata": {
      "needs_background": "light"
     },
     "output_type": "display_data"
    }
   ],
   "source": [
    "## KNN估计\n",
    "import numpy as np\n",
    "import pandas as pd\n",
    "data = [36, 36, 37, 38, 40, 41, 42, 43, 43, 44, 45, 48, 48, 50, 50, 51, 52, 53, 54, 54,\n",
    "       56, 56, 57, 57, 58, 58, 58, 58, 59, 59, 59, 60, 60, 60, 61, 61, 62, 62, 62, 63,\n",
    "       63, 65, 65, 66, 68, 68, 70, 73, 73, 75]\n",
    "x0 = np.arange(min(data)-2, max(data)+2, 2)\n",
    "def KNN(x, y, kn):\n",
    "    d = np.arange(0.5, 5.1, 0.1)\n",
    "    YB = []      ## 存储落入样本\n",
    "    DK = []      ## 存储最短窗宽\n",
    "    QJ = []      ## 存储最短区间\n",
    "    for s in range(len(y)):\n",
    "        dk = []\n",
    "        for j in range(len(d)):\n",
    "            k = sum([1 if (y[s] - d[j]) <= i <= (y[s] + d[j]) else 0 for i in x])\n",
    "            if (k >= kn):\n",
    "                dk += [d[j]]\n",
    "        DK += [min(dk)]\n",
    "        QJ += ['['+str(np.round(y[s] - DK[s], 2))+','+str(np.round(y[s] + DK[s], 2))+']']\n",
    "        YB += [list(filter(lambda r: r >= (y[s] - DK[s]) and r <= (y[s] + DK[s]), x))]\n",
    "    fn = list(map(lambda dk: kn/(2*len(x)*dk), DK))\n",
    "    df = pd.DataFrame({\"观测点\":x0, \"所属区间\":QJ, \"落入样本\":YB, \"窗宽dk\":DK, \"NN估计\":fn})\n",
    "    return(df)\n",
    "KNN = KNN(data, x0, 3)\n",
    "KNN\n",
    "print(\"数据计算表:\\n\", KNN)\n",
    "import matplotlib.pyplot as plt\n",
    "plt.rcParams['font.sans-serif'] = ['SimHei']\n",
    "plt.rcParams['axes.unicode_minus'] = False\n",
    "plt.hist(data, density = True)\n",
    "plt.tick_params(labelsize = 13)\n",
    "plt.title(\"KNN估计曲线图\")\n",
    "plt.plot(KNN['观测点'], KNN['NN估计'], color = 'green', linestyle = '-')\n",
    "plt.show()"
   ]
  },
  {
   "cell_type": "markdown",
   "metadata": {
    "heading_collapsed": true,
    "hidden": true
   },
   "source": [
    "### "
   ]
  },
  {
   "cell_type": "markdown",
   "metadata": {
    "heading_collapsed": true,
    "hidden": true
   },
   "source": [
    "#### "
   ]
  },
  {
   "cell_type": "code",
   "execution_count": 146,
   "metadata": {
    "hidden": true
   },
   "outputs": [
    {
     "name": "stdout",
     "output_type": "stream",
     "text": [
      "    x   y         X         Y\n",
      "0   1  19  1.000000  2.944439\n",
      "1   2  32  0.500000  3.465736\n",
      "2   4  44  0.250000  3.784190\n",
      "3   6  40  0.166667  3.688879\n",
      "4  10  52  0.100000  3.951244\n",
      "5  14  53  0.071429  3.970292\n",
      "6  20  54  0.050000  3.988984\n"
     ]
    }
   ],
   "source": [
    "import math\n",
    "import numpy as np\n",
    "import pandas as pd\n",
    "\n",
    "x = np.array([1, 2, 4, 6, 10 ,14, 20])\n",
    "y = np.array([19, 32, 44, 40, 52, 53, 54])\n",
    "X = 1/x\n",
    "Y = [math.log(i, math.e) for i in y]\n",
    "yl, yu = min(y), max(y)+1\n",
    "n = len(x)\n",
    "df = pd.DataFrame({'x':x, 'y':y, 'X':X, 'Y':Y})\n",
    "print(df)\n",
    "\n",
    "## 加权最小二乘估计\n",
    "U = df['y'].mean()\n",
    "UX = np.dot(df['y'], df['X'])/n\n",
    "UY = np.dot(df['y'], df['Y'])/n\n",
    "UXX = np.dot(df['y'], df['X']**2)/n\n",
    "UXY = sum(df['y']*df['X']*df['Y'])/n\n",
    "A1 = (UXX*UY-UX*UXY)/(U*UXX-UX**2)\n",
    "a1 = math.exp(A1)\n",
    "b1 = (U*UXY-UX*UY)/(U*UXX-UX**2)\n",
    "def wls(x):\n",
    "    return(a1*math.exp(b1/x))"
   ]
  },
  {
   "cell_type": "markdown",
   "metadata": {
    "heading_collapsed": true,
    "hidden": true
   },
   "source": [
    "#### "
   ]
  },
  {
   "cell_type": "code",
   "execution_count": 145,
   "metadata": {
    "hidden": true
   },
   "outputs": [
    {
     "data": {
      "image/png": "[encoded data removed]",
      "text/plain": [
       "<Figure size 576x360 with 1 Axes>"
      ]
     },
     "metadata": {
      "needs_background": "light"
     },
     "output_type": "display_data"
    }
   ],
   "source": [
    "## 散点图及拟合图\n",
    "import matplotlib.pyplot as plt\n",
    "plt.rcParams['font.sans-serif'] = ['SimHei']\n",
    "fig = plt.figure(figsize = (8, 5))\n",
    "line1, = plt.plot(df['x'], df['y'], '*')\n",
    "line2, = plt.plot(df['x'], [wls(i) for i in x], color = 'k', linestyle = '-.')\n",
    "tl = plt.legend([line1, line2], [\"实际值\", \"加权值\"], loc = 'upper left')\n",
    "plt.title(\"散点及拟合\")\n",
    "plt.xlabel(\"广告费x\")\n",
    "plt.ylabel(\"销售额y\")\n",
    "plt.xticks(x)\n",
    "plt.yticks(np.arange(yl, yu, 3))\n",
    "plt.grid(linestyle = \"-\", alpha = 0.5, linewidth = 1.5)\n",
    "plt.show()"
   ]
  },
  {
   "cell_type": "code",
   "execution_count": null,
   "metadata": {
    "hidden": true
   },
   "outputs": [],
   "source": []
  }
 ],
 "metadata": {
  "kernelspec": {
   "display_name": "Python 3 (ipykernel)",
   "language": "python",
   "name": "python3"
  },
  "language_info": {
   "codemirror_mode": {
    "name": "ipython",
    "version": 3
   },
   "file_extension": ".py",
   "mimetype": "text/x-python",
   "name": "python",
   "nbconvert_exporter": "python",
   "pygments_lexer": "ipython3",
   "version": "3.9.13"
  },
  "toc": {
   "base_numbering": 1,
   "nav_menu": {},
   "number_sections": true,
   "sideBar": true,
   "skip_h1_title": false,
   "title_cell": "Table of Contents",
   "title_sidebar": "Contents",
   "toc_cell": true,
   "toc_position": {
    "height": "calc(100% - 180px)",
    "left": "10px",
    "top": "150px",
    "width": "164.989px"
   },
   "toc_section_display": true,
   "toc_window_display": false
  }
 },
 "nbformat": 4,
 "nbformat_minor": 4
}
