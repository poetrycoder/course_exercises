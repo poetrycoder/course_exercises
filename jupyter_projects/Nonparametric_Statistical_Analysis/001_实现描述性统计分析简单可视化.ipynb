{
 "cells": [
  {
   "cell_type": "code",
   "execution_count": 48,
   "id": "64b2d76d",
   "metadata": {},
   "outputs": [
    {
     "data": {
      "text/html": [
       "<div>\n",
       "<style scoped>\n",
       "    .dataframe tbody tr th:only-of-type {\n",
       "        vertical-align: middle;\n",
       "    }\n",
       "\n",
       "    .dataframe tbody tr th {\n",
       "        vertical-align: top;\n",
       "    }\n",
       "\n",
       "    .dataframe thead th {\n",
       "        text-align: right;\n",
       "    }\n",
       "</style>\n",
       "<table border=\"1\" class=\"dataframe\">\n",
       "  <thead>\n",
       "    <tr style=\"text-align: right;\">\n",
       "      <th></th>\n",
       "      <th>寿命区间</th>\n",
       "      <th>落入频数</th>\n",
       "      <th>频率</th>\n",
       "    </tr>\n",
       "  </thead>\n",
       "  <tbody>\n",
       "    <tr>\n",
       "      <th>0</th>\n",
       "      <td>(40,44]</td>\n",
       "      <td>1</td>\n",
       "      <td>0.005</td>\n",
       "    </tr>\n",
       "    <tr>\n",
       "      <th>1</th>\n",
       "      <td>(44,48]</td>\n",
       "      <td>1</td>\n",
       "      <td>0.005</td>\n",
       "    </tr>\n",
       "    <tr>\n",
       "      <th>2</th>\n",
       "      <td>(48,52]</td>\n",
       "      <td>1</td>\n",
       "      <td>0.005</td>\n",
       "    </tr>\n",
       "    <tr>\n",
       "      <th>3</th>\n",
       "      <td>(52,56]</td>\n",
       "      <td>1</td>\n",
       "      <td>0.005</td>\n",
       "    </tr>\n",
       "    <tr>\n",
       "      <th>4</th>\n",
       "      <td>(56,60]</td>\n",
       "      <td>9</td>\n",
       "      <td>0.045</td>\n",
       "    </tr>\n",
       "    <tr>\n",
       "      <th>5</th>\n",
       "      <td>(60,64]</td>\n",
       "      <td>23</td>\n",
       "      <td>0.115</td>\n",
       "    </tr>\n",
       "    <tr>\n",
       "      <th>6</th>\n",
       "      <td>(64,68]</td>\n",
       "      <td>26</td>\n",
       "      <td>0.130</td>\n",
       "    </tr>\n",
       "    <tr>\n",
       "      <th>7</th>\n",
       "      <td>(68,72]</td>\n",
       "      <td>20</td>\n",
       "      <td>0.100</td>\n",
       "    </tr>\n",
       "    <tr>\n",
       "      <th>8</th>\n",
       "      <td>(72,76]</td>\n",
       "      <td>24</td>\n",
       "      <td>0.120</td>\n",
       "    </tr>\n",
       "    <tr>\n",
       "      <th>9</th>\n",
       "      <td>(76,80]</td>\n",
       "      <td>25</td>\n",
       "      <td>0.125</td>\n",
       "    </tr>\n",
       "    <tr>\n",
       "      <th>10</th>\n",
       "      <td>(80,84]</td>\n",
       "      <td>20</td>\n",
       "      <td>0.100</td>\n",
       "    </tr>\n",
       "    <tr>\n",
       "      <th>11</th>\n",
       "      <td>(84,88]</td>\n",
       "      <td>16</td>\n",
       "      <td>0.080</td>\n",
       "    </tr>\n",
       "    <tr>\n",
       "      <th>12</th>\n",
       "      <td>(88,92]</td>\n",
       "      <td>14</td>\n",
       "      <td>0.070</td>\n",
       "    </tr>\n",
       "    <tr>\n",
       "      <th>13</th>\n",
       "      <td>(92,96]</td>\n",
       "      <td>9</td>\n",
       "      <td>0.045</td>\n",
       "    </tr>\n",
       "    <tr>\n",
       "      <th>14</th>\n",
       "      <td>(96,100]</td>\n",
       "      <td>5</td>\n",
       "      <td>0.025</td>\n",
       "    </tr>\n",
       "    <tr>\n",
       "      <th>15</th>\n",
       "      <td>(100,104]</td>\n",
       "      <td>3</td>\n",
       "      <td>0.015</td>\n",
       "    </tr>\n",
       "    <tr>\n",
       "      <th>16</th>\n",
       "      <td>(104,108]</td>\n",
       "      <td>1</td>\n",
       "      <td>0.005</td>\n",
       "    </tr>\n",
       "    <tr>\n",
       "      <th>17</th>\n",
       "      <td>(108,112]</td>\n",
       "      <td>0</td>\n",
       "      <td>0.000</td>\n",
       "    </tr>\n",
       "    <tr>\n",
       "      <th>18</th>\n",
       "      <td>(112,116]</td>\n",
       "      <td>1</td>\n",
       "      <td>0.005</td>\n",
       "    </tr>\n",
       "  </tbody>\n",
       "</table>\n",
       "</div>"
      ],
      "text/plain": [
       "         寿命区间  落入频数     频率\n",
       "0     (40,44]     1  0.005\n",
       "1     (44,48]     1  0.005\n",
       "2     (48,52]     1  0.005\n",
       "3     (52,56]     1  0.005\n",
       "4     (56,60]     9  0.045\n",
       "5     (60,64]    23  0.115\n",
       "6     (64,68]    26  0.130\n",
       "7     (68,72]    20  0.100\n",
       "8     (72,76]    24  0.120\n",
       "9     (76,80]    25  0.125\n",
       "10    (80,84]    20  0.100\n",
       "11    (84,88]    16  0.080\n",
       "12    (88,92]    14  0.070\n",
       "13    (92,96]     9  0.045\n",
       "14   (96,100]     5  0.025\n",
       "15  (100,104]     3  0.015\n",
       "16  (104,108]     1  0.005\n",
       "17  (108,112]     0  0.000\n",
       "18  (112,116]     1  0.005"
      ]
     },
     "execution_count": 48,
     "metadata": {},
     "output_type": "execute_result"
    }
   ],
   "source": [
    "import pandas as pd    ## pandas是python数据分析库，提供高效数据结构和工具，用于数据清洗、分析与可视化\n",
    "import numpy as np     ## numpy是python中用于科学计算的核心库，支持高效的数值运算和数据处理\n",
    "\n",
    "data = [107, 73, 68, 97, 76, 79, 94, 59, 98, 57, 73, 81, 54, 65, 71, 80, 84, 88, 62, 61,\n",
    "        79, 98, 63, 65, 66, 62, 79, 86, 68, 74, 61, 82, 65, 98, 63, 71, 62, 116, 65, 88,\n",
    "        64, 79, 78, 79, 77, 86, 89, 76, 74, 85, 73, 80, 68, 78, 89, 72, 58, 69, 82, 72,\n",
    "        92, 78, 88, 77, 103, 88, 63, 68, 88, 81, 64, 73, 75, 90, 62, 89, 71, 71, 74, 70,\n",
    "        74, 70, 85, 61, 65, 81, 75, 62, 94, 71, 85, 84, 83, 63, 92, 68, 81, 62, 79, 83,\n",
    "        93, 61, 65, 62, 92, 65, 64, 66, 83, 70, 70, 81, 77, 72, 84, 67, 59, 58, 73, 83,\n",
    "        78, 66, 66, 94, 77, 63, 66, 75, 68, 76, 73, 76, 90, 78, 71, 101, 78, 43, 59, 67,\n",
    "        61, 71, 77, 91, 96, 75, 64, 76, 72, 77, 74, 65, 82, 86, 79, 74, 66, 86, 96, 89,\n",
    "        81, 71, 85, 99, 59, 92, 94, 62, 68, 72, 77, 60, 87, 84, 75, 77, 51, 45, 63, 102,\n",
    "        85, 67, 87, 80, 84, 93, 69, 76, 89, 75, 59, 77, 83, 68, 72, 67, 92, 89, 82, 96]\n",
    "\n",
    "bin = [i for i in range(40,120,4)]     ## 选择端点：生成从40到120(不包含120)、步长为4的整数序列，并组成新的列表bin，作为数据分箱的区间端点\n",
    "\n",
    "qujian = ['('+str(bin[i])+','+str(bin[i+1])+']' for i in range(len(bin)-1)]   ## 标记区间：将bin列表中的第i个元素和第i+1个元素转换为字符串，并拼接成区间字符串\n",
    "\n",
    "huafen = pd.cut(data,bins=bin)    ## 分割数据：pd.cut是pandas的分箱函数，bins=bin指定分箱的区间端点为之前定义的bin列表，结果存储在huafen中\n",
    "\n",
    "pinshu = list(huafen.value_counts())      ## 统计频数：对huafen中出现的频数进行统计，转换成list列表，存储在pinshu中\n",
    "\n",
    "df = pd.DataFrame({\"寿命区间\":qujian, \"落入频数\":pinshu})     ## 创建一个pandas的DataFrame对象，用字典的形式指定DataFrame的列\n",
    "\n",
    "df[\"频率\"] = np.round(df[\"落入频数\"]/len(data),4)    ## 使用numpy的round函数将计算的频率保留4位小数点\n",
    "\n",
    "df   ## 输出DataFrame对象df，展示\n"
   ]
  },
  {
   "cell_type": "code",
   "execution_count": 49,
   "id": "6b73484f",
   "metadata": {},
   "outputs": [
    {
     "data": {
      "image/png": "[encoded data removed]",
      "text/plain": [
       "<Figure size 640x480 with 1 Axes>"
      ]
     },
     "metadata": {},
     "output_type": "display_data"
    }
   ],
   "source": [
    "from matplotlib import pyplot as plt\n",
    "# matplotlib 是 Python 中最常用的数据可视化库，核心作用是将数值数据转换为直观的图表（如折线图、柱状图、散点图等）\n",
    "import seaborn as sns\n",
    "# Seaborn 是基于 matplotlib 开发的 Python 数据可视化库，核心作用是简化高质量统计图表的绘制流程。seaborn可以快速美化图表。\n",
    "import warnings\n",
    "warnings.filterwarnings(\"ignore\")     # 忽略所有警告\n",
    "\n",
    "# 使用seaborn库绘图\n",
    "# 设置绘图风格及字体\n",
    "sns.set_style('whitegrid')\n",
    "\n",
    "# 设置中文字体\n",
    "plt.rcParams['font.sans-serif'] = ['simhei']\n",
    "plt.rcParams['axes.unicode_minus'] = False    # 正常显示负号\n",
    "\n",
    "# 设置横纵坐标\n",
    "count = df[\"落入频数\"]\n",
    "index = df[\"寿命区间\"]\n",
    "sns.barplot(x=index,y=count)\n",
    "plt.xticks(rotation=45)   # 设置倾斜角度\n",
    "plt.show()"
   ]
  },
  {
   "cell_type": "code",
   "execution_count": 50,
   "id": "1f0beac1",
   "metadata": {},
   "outputs": [
    {
     "data": {
      "image/png": "[encoded data removed]",
      "text/plain": [
       "<Figure size 640x480 with 1 Axes>"
      ]
     },
     "metadata": {},
     "output_type": "display_data"
    }
   ],
   "source": [
    "sns.distplot(data,kde = True)    # kde是核密度估计\n",
    "plt.title('单变量数据分布图')\n",
    "plt.xlabel('燃烧寿命数据')\n",
    "plt.ylabel('频率')\n",
    "plt.show()"
   ]
  },
  {
   "cell_type": "code",
   "execution_count": 51,
   "id": "3a357a8e",
   "metadata": {},
   "outputs": [
    {
     "data": {
      "image/png": "[encoded data removed]",
      "text/plain": [
       "<Figure size 600x300 with 1 Axes>"
      ]
     },
     "metadata": {},
     "output_type": "display_data"
    }
   ],
   "source": [
    "plt.figure(figsize = (6,3))\n",
    "sns.boxenplot(data = data,orient='h',width = 0.6)\n",
    "plt.title('增强箱线图')\n",
    "plt.show()"
   ]
  },
  {
   "cell_type": "code",
   "execution_count": 52,
   "id": "9577af08",
   "metadata": {},
   "outputs": [
    {
     "data": {
      "text/plain": [
       "count    200.000000\n",
       "mean      76.050000\n",
       "std       12.060463\n",
       "min       43.000000\n",
       "25%       66.750000\n",
       "50%       75.500000\n",
       "75%       84.000000\n",
       "max      116.000000\n",
       "dtype: float64"
      ]
     },
     "execution_count": 52,
     "metadata": {},
     "output_type": "execute_result"
    }
   ],
   "source": [
    "Data = pd.Series(data)  # 列表转换为序列\n",
    "Data.describe()     # 基本描述统计量，针对序列！"
   ]
  },
  {
   "cell_type": "code",
   "execution_count": 53,
   "id": "62a3ffcb",
   "metadata": {},
   "outputs": [
    {
     "data": {
      "text/plain": [
       "0.27702753367295824"
      ]
     },
     "execution_count": 53,
     "metadata": {},
     "output_type": "execute_result"
    }
   ],
   "source": [
    "Data.skew()   # 偏态系数"
   ]
  },
  {
   "cell_type": "code",
   "execution_count": 54,
   "id": "967a9636",
   "metadata": {},
   "outputs": [
    {
     "data": {
      "text/plain": [
       "0.035571456224932074"
      ]
     },
     "execution_count": 54,
     "metadata": {},
     "output_type": "execute_result"
    }
   ],
   "source": [
    "Data.kurt()   # 峰态系数"
   ]
  },
  {
   "cell_type": "code",
   "execution_count": 55,
   "id": "0856733b",
   "metadata": {},
   "outputs": [
    {
     "data": {
      "text/html": [
       "<div>\n",
       "<style scoped>\n",
       "    .dataframe tbody tr th:only-of-type {\n",
       "        vertical-align: middle;\n",
       "    }\n",
       "\n",
       "    .dataframe tbody tr th {\n",
       "        vertical-align: top;\n",
       "    }\n",
       "\n",
       "    .dataframe thead th {\n",
       "        text-align: right;\n",
       "    }\n",
       "</style>\n",
       "<table border=\"1\" class=\"dataframe\">\n",
       "  <thead>\n",
       "    <tr style=\"text-align: right;\">\n",
       "      <th></th>\n",
       "      <th>统计量</th>\n",
       "      <th>符号</th>\n",
       "      <th>数值</th>\n",
       "    </tr>\n",
       "  </thead>\n",
       "  <tbody>\n",
       "    <tr>\n",
       "      <th>0</th>\n",
       "      <td>计数</td>\n",
       "      <td>Count</td>\n",
       "      <td>200.000000</td>\n",
       "    </tr>\n",
       "    <tr>\n",
       "      <th>1</th>\n",
       "      <td>最小值</td>\n",
       "      <td>Min</td>\n",
       "      <td>43.000000</td>\n",
       "    </tr>\n",
       "    <tr>\n",
       "      <th>2</th>\n",
       "      <td>下四分位数</td>\n",
       "      <td>Q1(25%)</td>\n",
       "      <td>66.750000</td>\n",
       "    </tr>\n",
       "    <tr>\n",
       "      <th>3</th>\n",
       "      <td>均值</td>\n",
       "      <td>Mean</td>\n",
       "      <td>76.050000</td>\n",
       "    </tr>\n",
       "    <tr>\n",
       "      <th>4</th>\n",
       "      <td>中位数</td>\n",
       "      <td>Median</td>\n",
       "      <td>75.500000</td>\n",
       "    </tr>\n",
       "    <tr>\n",
       "      <th>5</th>\n",
       "      <td>上四分位数</td>\n",
       "      <td>Q3(75%)</td>\n",
       "      <td>84.000000</td>\n",
       "    </tr>\n",
       "    <tr>\n",
       "      <th>6</th>\n",
       "      <td>最大值</td>\n",
       "      <td>Max</td>\n",
       "      <td>116.000000</td>\n",
       "    </tr>\n",
       "    <tr>\n",
       "      <th>7</th>\n",
       "      <td>极差</td>\n",
       "      <td>Range</td>\n",
       "      <td>73.000000</td>\n",
       "    </tr>\n",
       "    <tr>\n",
       "      <th>8</th>\n",
       "      <td>方差</td>\n",
       "      <td>Var</td>\n",
       "      <td>145.454774</td>\n",
       "    </tr>\n",
       "    <tr>\n",
       "      <th>9</th>\n",
       "      <td>标准差</td>\n",
       "      <td>Std</td>\n",
       "      <td>12.060463</td>\n",
       "    </tr>\n",
       "    <tr>\n",
       "      <th>10</th>\n",
       "      <td>偏度</td>\n",
       "      <td>Skew</td>\n",
       "      <td>0.277028</td>\n",
       "    </tr>\n",
       "    <tr>\n",
       "      <th>11</th>\n",
       "      <td>峰度</td>\n",
       "      <td>Kurt</td>\n",
       "      <td>0.035571</td>\n",
       "    </tr>\n",
       "  </tbody>\n",
       "</table>\n",
       "</div>"
      ],
      "text/plain": [
       "      统计量       符号          数值\n",
       "0      计数    Count  200.000000\n",
       "1     最小值      Min   43.000000\n",
       "2   下四分位数  Q1(25%)   66.750000\n",
       "3      均值     Mean   76.050000\n",
       "4     中位数   Median   75.500000\n",
       "5   上四分位数  Q3(75%)   84.000000\n",
       "6     最大值      Max  116.000000\n",
       "7      极差    Range   73.000000\n",
       "8      方差      Var  145.454774\n",
       "9     标准差      Std   12.060463\n",
       "10     偏度     Skew    0.277028\n",
       "11     峰度     Kurt    0.035571"
      ]
     },
     "execution_count": 55,
     "metadata": {},
     "output_type": "execute_result"
    }
   ],
   "source": [
    "# 自编函数进行描述性分析\n",
    "def Stats(x):\n",
    "    stat = [x.count(), x.min(), x.quantile(.25), x.mean(), x.median(), x.quantile(.75), x.max(),\n",
    "           x.max()-x.min(), x.var(), x.std(), x.skew(), x.kurt()]\n",
    "    name = ['计数', '最小值', '下四分位数', '均值', '中位数', '上四分位数','最大值',\n",
    "           '极差', '方差', '标准差', '偏度', '峰度']\n",
    "    symbol = ['Count', 'Min', 'Q1(25%)', 'Mean', 'Median', 'Q3(75%)', 'Max',\n",
    "             'Range', 'Var', 'Std', 'Skew', 'Kurt']\n",
    "    stats = pd.DataFrame({'统计量':name, '符号':symbol, '数值':stat})\n",
    "    return(stats)\n",
    "Stats(Data)"
   ]
  },
  {
   "cell_type": "code",
   "execution_count": null,
   "id": "0779dba5",
   "metadata": {},
   "outputs": [],
   "source": []
  }
 ],
 "metadata": {
  "kernelspec": {
   "display_name": "Python 3 (ipykernel)",
   "language": "python",
   "name": "python3"
  },
  "language_info": {
   "codemirror_mode": {
    "name": "ipython",
    "version": 3
   },
   "file_extension": ".py",
   "mimetype": "text/x-python",
   "name": "python",
   "nbconvert_exporter": "python",
   "pygments_lexer": "ipython3",
   "version": "3.9.13"
  }
 },
 "nbformat": 4,
 "nbformat_minor": 5
}
