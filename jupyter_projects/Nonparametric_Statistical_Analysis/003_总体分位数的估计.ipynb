{
 "cells": [
  {
   "cell_type": "code",
   "execution_count": 1,
   "id": "b5854bf1",
   "metadata": {},
   "outputs": [
    {
     "name": "stdout",
     "output_type": "stream",
     "text": [
      "数据类型: <class 'pandas.core.series.Series'>\n",
      "描述性统计:\n",
      " count    20.000000\n",
      "mean      8.043000\n",
      "std       0.276274\n",
      "min       7.350000\n",
      "25%       7.880000\n",
      "50%       8.115000\n",
      "75%       8.200000\n",
      "max       8.700000\n",
      "dtype: float64\n",
      "任意分位数:\n",
      " [7.788  7.84   8.0505 8.202  8.3485]\n"
     ]
    }
   ],
   "source": [
    "import pandas as pd  # 加载pandas库完成描述统计\n",
    "import numpy as np\n",
    "x = [7.80, 8.21, 7.99, 7.35, 8.20, 8.15, 8.70, 8.33, 7.85, 7.92, \n",
    "     8.10, 7.92, 8.15, 8.13, 8.23, 7.77, 7.79, 8.20, 8.18, 7.89]\n",
    "x = pd.Series(x)   # 根据列表生成序列\n",
    "print(\"数据类型:\", type(x))\n",
    "print(\"描述性统计:\\n\", x.describe())\n",
    "print(\"任意分位数:\\n\", np.percentile(x, [10,20,45,80,95]))  # 分位数变量用列表，复杂时可以用循环解析式\n"
   ]
  },
  {
   "cell_type": "code",
   "execution_count": 3,
   "id": "c3588239",
   "metadata": {},
   "outputs": [
    {
     "name": "stdout",
     "output_type": "stream",
     "text": [
      "置信水平约为: 0.875\n"
     ]
    }
   ],
   "source": [
    "import scipy.stats as ss\n",
    "def y(i, j):\n",
    "    prob = ss.binom.cdf(j, 4, 0.5) - ss.binom.cdf(i - 1, 4, 0.5)\n",
    "    print('置信水平约为:', prob)\n",
    "y(1, 3)"
   ]
  },
  {
   "cell_type": "code",
   "execution_count": 9,
   "id": "300616bd",
   "metadata": {},
   "outputs": [
    {
     "name": "stdout",
     "output_type": "stream",
     "text": [
      "数据位置为：(1, 3)\n",
      "区间估计为：(0.137, 0.144)\n"
     ]
    }
   ],
   "source": [
    "import numpy as np\n",
    "from scipy.stats import binom\n",
    "x = [0.144, 0.142, 0.145, 0.137]\n",
    "def qujianguji(prob, confidence_level):\n",
    "    n, alpha = len(x), 1 - confidence_level\n",
    "    index_range = [i for i in range(1, n+1)]\n",
    "    for i in index_range:\n",
    "        s1 = binom.cdf(i-1, n, prob)\n",
    "        s2 = binom.cdf(i, n, prob)\n",
    "        if s1 <= alpha/2 and s2 > alpha/2:\n",
    "            break\n",
    "        else:\n",
    "            pass\n",
    "    for j in reversed(index_range):\n",
    "        s3 = binom.sf(j, n, prob)\n",
    "        s4 = binom.sf(j-1, n, prob)\n",
    "        if s3 <= alpha/2 and s4 > alpha/2:\n",
    "            break\n",
    "        else:\n",
    "            pass\n",
    "    lower_bound, upper_bound = np.sort(x)[i-1], np.sort(x)[j-1]\n",
    "    print(\"数据位置为：(%s, %s)\" % (i, j))\n",
    "    print(\"区间估计为：(%s, %s)\" % (lower_bound, upper_bound))\n",
    "qujianguji(0.5, 0.875)"
   ]
  },
  {
   "cell_type": "code",
   "execution_count": 5,
   "id": "0996ee9f",
   "metadata": {},
   "outputs": [
    {
     "name": "stdout",
     "output_type": "stream",
     "text": [
      "数据位置为：(3, 9)\n",
      "区间估计为：[71, 87]\n"
     ]
    }
   ],
   "source": [
    "import numpy as np\n",
    "from scipy.stats import norm\n",
    "\n",
    "x=[67, 69, 71, 79, 80, 83, 84, 86, 87, 92, 93, 96, 100,\n",
    "  104, 105, 113, 121, 122, 129, 141, 156, 164, 191]\n",
    "def qj(p,lv):\n",
    "    n,alpha = len(x), 1-lv\n",
    "    mu = [i for i in range(1,n+1)]\n",
    "    for i in mu: ## P{X<k} <= alpha/2\n",
    "        s1 = norm.cdf((i-1)-0.5, n*p,np.sqrt(n*p*(1-p)))\n",
    "        s2 = norm.cdf(i-0.5, n*p,np.sqrt(n*p*(1-p)))\n",
    "        if s1 <= alpha/2 and s2 >alpha/2:\n",
    "            break\n",
    "        else:\n",
    "            pass\n",
    "    for j in reversed(mu): ## P{X>k} <= alpha/2 \n",
    "        s3 = norm.sf(j+0.5, n*p,np.sqrt(n*p*(1-p)))\n",
    "        s4 = norm.sf((j-1)+0.5, n*p, np.sqrt(n*p*(1-p)))\n",
    "        if s3 <= alpha/2 and s4 > alpha/2:\n",
    "            break\n",
    "        else:\n",
    "            pass\n",
    "    l,u = sort(x)[i-1], sort(x)[j-1]\n",
    "    print(\"数据位置为：(%s, %s)\" % (i,j))\n",
    "    print(\"区间估计为：[%s, %s]\"% (l,u))\n",
    "qj(0.25, 0.90)"
   ]
  },
  {
   "cell_type": "code",
   "execution_count": null,
   "id": "5aa3842d",
   "metadata": {},
   "outputs": [],
   "source": []
  }
 ],
 "metadata": {
  "kernelspec": {
   "display_name": "Python 3 (ipykernel)",
   "language": "python",
   "name": "python3"
  },
  "language_info": {
   "codemirror_mode": {
    "name": "ipython",
    "version": 3
   },
   "file_extension": ".py",
   "mimetype": "text/x-python",
   "name": "python",
   "nbconvert_exporter": "python",
   "pygments_lexer": "ipython3",
   "version": "3.9.13"
  }
 },
 "nbformat": 4,
 "nbformat_minor": 5
}
